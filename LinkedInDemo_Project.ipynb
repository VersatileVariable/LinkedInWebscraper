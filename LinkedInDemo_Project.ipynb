{
 "cells": [
  {
   "cell_type": "markdown",
   "id": "cbf98e7e",
   "metadata": {},
   "source": [
    "LinkedIn Demo"
   ]
  },
  {
   "cell_type": "code",
   "execution_count": 1,
   "id": "ee81ef54",
   "metadata": {},
   "outputs": [],
   "source": [
    "#most code by MariyaSha, https://github.com/MariyaSha\n",
    "#imports\n",
    "from selenium.webdriver.chrome.service import Service\n",
    "from selenium import webdriver\n",
    "from selenium.webdriver.common.keys import Keys\n",
    "from selenium.webdriver.support import expected_conditions as EC\n",
    "from selenium.webdriver.common.by import By\n",
    "from selenium.webdriver.support.wait import WebDriverWait\n",
    "import time\n",
    "\n",
    "import csv\n",
    "import getpass\n",
    "from selenium.common.exceptions import NoSuchElementException"
   ]
  },
  {
   "cell_type": "code",
   "execution_count": 2,
   "id": "ac742dbc",
   "metadata": {
    "scrolled": true
   },
   "outputs": [
    {
     "name": "stdout",
     "output_type": "stream",
     "text": [
      "········\n"
     ]
    }
   ],
   "source": [
    "#specify the path to chromedriver.exe (download and save on your computer)\n",
    "#driver = webdriver.Chrome('/usr/local/lib/chromedriver/chromedriver')\n",
    "#just login to LinkedIn\n",
    "\n",
    "\n",
    "browser_driver = Service('/usr/local/lib/chromedriver/chromedriver')\n",
    "page_to_scrape = webdriver.Chrome(service=browser_driver)\n",
    "\n",
    "\n",
    "#open page\n",
    "page_to_scrape.get(\"https://www.linkedin.com\")\n",
    "\n",
    "#signing in\n",
    "page_to_scrape.find_element(By.LINK_TEXT, \"Sign in\").click()\n",
    "\n",
    "username = page_to_scrape.find_element(By.ID, \"username\")\n",
    "password = page_to_scrape.find_element(By.ID, \"password\")\n",
    "username.send_keys(\"wanderingonwater@gmail.com\")\n",
    "my_pass = getpass.getpass()\n",
    "password.send_keys(my_pass)\n",
    "\n",
    "page_to_scrape.find_element(By.CSS_SELECTOR, \".btn__primary--large\").click()\n",
    "\n",
    "\n"
   ]
  },
  {
   "cell_type": "code",
   "execution_count": 6,
   "id": "a06ab3c3",
   "metadata": {
    "scrolled": true
   },
   "outputs": [
    {
     "name": "stdout",
     "output_type": "stream",
     "text": [
      "['https://de.linkedin.com/in/pvu51', 'https://translate.google.com/translate?hl=en&sl=de&u=https://de.linkedin.com/in/pvu51&prev=search&pto=aue', 'https://de.linkedin.com/in/dag-kregenow-12378887', 'https://translate.google.com/translate?hl=en&sl=de&u=https://de.linkedin.com/in/dag-kregenow-12378887&prev=search&pto=aue', 'https://de.linkedin.com/in/tom-bayer-061b19104', 'https://translate.google.com/translate?hl=en&sl=de&u=https://de.linkedin.com/in/tom-bayer-061b19104&prev=search&pto=aue', 'https://de.linkedin.com/in/ausastuttgart', 'https://de.linkedin.com/in/jason-ballinger-8965b850', 'https://translate.google.com/translate?hl=en&sl=de&u=https://de.linkedin.com/in/jason-ballinger-8965b850&prev=search&pto=aue', 'https://de.linkedin.com/in/scott-carter-84112846', 'https://translate.google.com/translate?hl=en&sl=de&u=https://de.linkedin.com/in/scott-carter-84112846&prev=search&pto=aue', 'https://de.linkedin.com/in/ula-jacobs-5237894b', 'https://translate.google.com/translate?hl=en&sl=de&u=https://de.linkedin.com/in/ula-jacobs-5237894b&prev=search&pto=aue', 'https://de.linkedin.com/in/theodore-schulze-82638543', 'https://translate.google.com/translate?hl=en&sl=de&u=https://de.linkedin.com/in/theodore-schulze-82638543&prev=search&pto=aue', 'https://de.linkedin.com/in/nicholas-patterson-22794b96', 'https://translate.google.com/translate?hl=en&sl=de&u=https://de.linkedin.com/in/nicholas-patterson-22794b96&prev=search&pto=aue']\n"
     ]
    },
    {
     "ename": "WebDriverException",
     "evalue": "Message: disconnected: not connected to DevTools\n  (Session info: chrome=98.0.4758.109)\nStacktrace:\n0   chromedriver                        0x0000000108c1c3c9 chromedriver + 5018569\n1   chromedriver                        0x0000000108ba7333 chromedriver + 4539187\n2   chromedriver                        0x000000010877ca88 chromedriver + 170632\n3   chromedriver                        0x0000000108767448 chromedriver + 83016\n4   chromedriver                        0x0000000108767b4c chromedriver + 84812\n5   chromedriver                        0x00000001087865f4 chromedriver + 210420\n6   chromedriver                        0x000000010877f298 chromedriver + 180888\n7   chromedriver                        0x000000010877ef82 chromedriver + 180098\n8   chromedriver                        0x000000010877f69d chromedriver + 181917\n9   chromedriver                        0x000000010878028d chromedriver + 184973\n10  chromedriver                        0x00000001087e2273 chromedriver + 586355\n11  chromedriver                        0x00000001087ce7e2 chromedriver + 505826\n12  chromedriver                        0x00000001087e1604 chromedriver + 583172\n13  chromedriver                        0x00000001087ce6d3 chromedriver + 505555\n14  chromedriver                        0x00000001087a495e chromedriver + 334174\n15  chromedriver                        0x00000001087a5935 chromedriver + 338229\n16  chromedriver                        0x0000000108bd81ee chromedriver + 4739566\n17  chromedriver                        0x0000000108bf1f51 chromedriver + 4845393\n18  chromedriver                        0x0000000108bf7928 chromedriver + 4868392\n19  chromedriver                        0x0000000108bf2a7a chromedriver + 4848250\n20  chromedriver                        0x0000000108bccc31 chromedriver + 4693041\n21  chromedriver                        0x0000000108c0d978 chromedriver + 4958584\n22  chromedriver                        0x0000000108c0db01 chromedriver + 4958977\n23  chromedriver                        0x0000000108c23795 chromedriver + 5048213\n24  libsystem_pthread.dylib             0x00007ff81190f514 _pthread_start + 125\n25  libsystem_pthread.dylib             0x00007ff81190b02f thread_start + 15\n",
     "output_type": "error",
     "traceback": [
      "\u001b[0;31m---------------------------------------------------------------------------\u001b[0m",
      "\u001b[0;31mWebDriverException\u001b[0m                        Traceback (most recent call last)",
      "\u001b[0;32m/var/folders/h9/gjl0cmmn7wggh47qkzzfvbh80000gn/T/ipykernel_82225/3147405060.py\u001b[0m in \u001b[0;36m<module>\u001b[0;34m\u001b[0m\n\u001b[1;32m     53\u001b[0m \u001b[0;34m\u001b[0m\u001b[0m\n\u001b[1;32m     54\u001b[0m             \u001b[0melems\u001b[0m \u001b[0;34m=\u001b[0m \u001b[0mpage_to_scrape\u001b[0m\u001b[0;34m.\u001b[0m\u001b[0mfind_elements\u001b[0m\u001b[0;34m(\u001b[0m\u001b[0mBy\u001b[0m\u001b[0;34m.\u001b[0m\u001b[0mCSS_SELECTOR\u001b[0m\u001b[0;34m,\u001b[0m\u001b[0;34m\".yuRUbf [href]\"\u001b[0m\u001b[0;34m)\u001b[0m\u001b[0;34m\u001b[0m\u001b[0;34m\u001b[0m\u001b[0m\n\u001b[0;32m---> 55\u001b[0;31m             \u001b[0mtemp\u001b[0m \u001b[0;34m=\u001b[0m \u001b[0;34m[\u001b[0m\u001b[0melem\u001b[0m\u001b[0;34m.\u001b[0m\u001b[0mget_attribute\u001b[0m\u001b[0;34m(\u001b[0m\u001b[0;34m'href'\u001b[0m\u001b[0;34m)\u001b[0m \u001b[0;32mfor\u001b[0m \u001b[0melem\u001b[0m \u001b[0;32min\u001b[0m \u001b[0melems\u001b[0m\u001b[0;34m]\u001b[0m\u001b[0;34m\u001b[0m\u001b[0;34m\u001b[0m\u001b[0m\n\u001b[0m\u001b[1;32m     56\u001b[0m \u001b[0;34m\u001b[0m\u001b[0m\n\u001b[1;32m     57\u001b[0m             \u001b[0mlinks\u001b[0m\u001b[0;34m.\u001b[0m\u001b[0mextend\u001b[0m\u001b[0;34m(\u001b[0m\u001b[0mtemp\u001b[0m\u001b[0;34m)\u001b[0m\u001b[0;34m\u001b[0m\u001b[0;34m\u001b[0m\u001b[0m\n",
      "\u001b[0;32m/var/folders/h9/gjl0cmmn7wggh47qkzzfvbh80000gn/T/ipykernel_82225/3147405060.py\u001b[0m in \u001b[0;36m<listcomp>\u001b[0;34m(.0)\u001b[0m\n\u001b[1;32m     53\u001b[0m \u001b[0;34m\u001b[0m\u001b[0m\n\u001b[1;32m     54\u001b[0m             \u001b[0melems\u001b[0m \u001b[0;34m=\u001b[0m \u001b[0mpage_to_scrape\u001b[0m\u001b[0;34m.\u001b[0m\u001b[0mfind_elements\u001b[0m\u001b[0;34m(\u001b[0m\u001b[0mBy\u001b[0m\u001b[0;34m.\u001b[0m\u001b[0mCSS_SELECTOR\u001b[0m\u001b[0;34m,\u001b[0m\u001b[0;34m\".yuRUbf [href]\"\u001b[0m\u001b[0;34m)\u001b[0m\u001b[0;34m\u001b[0m\u001b[0;34m\u001b[0m\u001b[0m\n\u001b[0;32m---> 55\u001b[0;31m             \u001b[0mtemp\u001b[0m \u001b[0;34m=\u001b[0m \u001b[0;34m[\u001b[0m\u001b[0melem\u001b[0m\u001b[0;34m.\u001b[0m\u001b[0mget_attribute\u001b[0m\u001b[0;34m(\u001b[0m\u001b[0;34m'href'\u001b[0m\u001b[0;34m)\u001b[0m \u001b[0;32mfor\u001b[0m \u001b[0melem\u001b[0m \u001b[0;32min\u001b[0m \u001b[0melems\u001b[0m\u001b[0;34m]\u001b[0m\u001b[0;34m\u001b[0m\u001b[0;34m\u001b[0m\u001b[0m\n\u001b[0m\u001b[1;32m     56\u001b[0m \u001b[0;34m\u001b[0m\u001b[0m\n\u001b[1;32m     57\u001b[0m             \u001b[0mlinks\u001b[0m\u001b[0;34m.\u001b[0m\u001b[0mextend\u001b[0m\u001b[0;34m(\u001b[0m\u001b[0mtemp\u001b[0m\u001b[0;34m)\u001b[0m\u001b[0;34m\u001b[0m\u001b[0;34m\u001b[0m\u001b[0m\n",
      "\u001b[0;32m/usr/local/lib/python3.9/site-packages/selenium/webdriver/remote/webelement.py\u001b[0m in \u001b[0;36mget_attribute\u001b[0;34m(self, name)\u001b[0m\n\u001b[1;32m    153\u001b[0m         \"\"\"\n\u001b[1;32m    154\u001b[0m \u001b[0;34m\u001b[0m\u001b[0m\n\u001b[0;32m--> 155\u001b[0;31m         attribute_value = self.parent.execute_script(\n\u001b[0m\u001b[1;32m    156\u001b[0m             \u001b[0;34m\"return (%s).apply(null, arguments);\"\u001b[0m \u001b[0;34m%\u001b[0m \u001b[0mgetAttribute_js\u001b[0m\u001b[0;34m,\u001b[0m\u001b[0;34m\u001b[0m\u001b[0;34m\u001b[0m\u001b[0m\n\u001b[1;32m    157\u001b[0m             self, name)\n",
      "\u001b[0;32m/usr/local/lib/python3.9/site-packages/selenium/webdriver/remote/webdriver.py\u001b[0m in \u001b[0;36mexecute_script\u001b[0;34m(self, script, *args)\u001b[0m\n\u001b[1;32m    876\u001b[0m         \u001b[0mcommand\u001b[0m \u001b[0;34m=\u001b[0m \u001b[0mCommand\u001b[0m\u001b[0;34m.\u001b[0m\u001b[0mW3C_EXECUTE_SCRIPT\u001b[0m\u001b[0;34m\u001b[0m\u001b[0;34m\u001b[0m\u001b[0m\n\u001b[1;32m    877\u001b[0m \u001b[0;34m\u001b[0m\u001b[0m\n\u001b[0;32m--> 878\u001b[0;31m         return self.execute(command, {\n\u001b[0m\u001b[1;32m    879\u001b[0m             \u001b[0;34m'script'\u001b[0m\u001b[0;34m:\u001b[0m \u001b[0mscript\u001b[0m\u001b[0;34m,\u001b[0m\u001b[0;34m\u001b[0m\u001b[0;34m\u001b[0m\u001b[0m\n\u001b[1;32m    880\u001b[0m             'args': converted_args})['value']\n",
      "\u001b[0;32m/usr/local/lib/python3.9/site-packages/selenium/webdriver/remote/webdriver.py\u001b[0m in \u001b[0;36mexecute\u001b[0;34m(self, driver_command, params)\u001b[0m\n\u001b[1;32m    422\u001b[0m         \u001b[0mresponse\u001b[0m \u001b[0;34m=\u001b[0m \u001b[0mself\u001b[0m\u001b[0;34m.\u001b[0m\u001b[0mcommand_executor\u001b[0m\u001b[0;34m.\u001b[0m\u001b[0mexecute\u001b[0m\u001b[0;34m(\u001b[0m\u001b[0mdriver_command\u001b[0m\u001b[0;34m,\u001b[0m \u001b[0mparams\u001b[0m\u001b[0;34m)\u001b[0m\u001b[0;34m\u001b[0m\u001b[0;34m\u001b[0m\u001b[0m\n\u001b[1;32m    423\u001b[0m         \u001b[0;32mif\u001b[0m \u001b[0mresponse\u001b[0m\u001b[0;34m:\u001b[0m\u001b[0;34m\u001b[0m\u001b[0;34m\u001b[0m\u001b[0m\n\u001b[0;32m--> 424\u001b[0;31m             \u001b[0mself\u001b[0m\u001b[0;34m.\u001b[0m\u001b[0merror_handler\u001b[0m\u001b[0;34m.\u001b[0m\u001b[0mcheck_response\u001b[0m\u001b[0;34m(\u001b[0m\u001b[0mresponse\u001b[0m\u001b[0;34m)\u001b[0m\u001b[0;34m\u001b[0m\u001b[0;34m\u001b[0m\u001b[0m\n\u001b[0m\u001b[1;32m    425\u001b[0m             response['value'] = self._unwrap_value(\n\u001b[1;32m    426\u001b[0m                 response.get('value', None))\n",
      "\u001b[0;32m/usr/local/lib/python3.9/site-packages/selenium/webdriver/remote/errorhandler.py\u001b[0m in \u001b[0;36mcheck_response\u001b[0;34m(self, response)\u001b[0m\n\u001b[1;32m    245\u001b[0m                 \u001b[0malert_text\u001b[0m \u001b[0;34m=\u001b[0m \u001b[0mvalue\u001b[0m\u001b[0;34m[\u001b[0m\u001b[0;34m'alert'\u001b[0m\u001b[0;34m]\u001b[0m\u001b[0;34m.\u001b[0m\u001b[0mget\u001b[0m\u001b[0;34m(\u001b[0m\u001b[0;34m'text'\u001b[0m\u001b[0;34m)\u001b[0m\u001b[0;34m\u001b[0m\u001b[0;34m\u001b[0m\u001b[0m\n\u001b[1;32m    246\u001b[0m             \u001b[0;32mraise\u001b[0m \u001b[0mexception_class\u001b[0m\u001b[0;34m(\u001b[0m\u001b[0mmessage\u001b[0m\u001b[0;34m,\u001b[0m \u001b[0mscreen\u001b[0m\u001b[0;34m,\u001b[0m \u001b[0mstacktrace\u001b[0m\u001b[0;34m,\u001b[0m \u001b[0malert_text\u001b[0m\u001b[0;34m)\u001b[0m  \u001b[0;31m# type: ignore[call-arg]  # mypy is not smart enough here\u001b[0m\u001b[0;34m\u001b[0m\u001b[0;34m\u001b[0m\u001b[0m\n\u001b[0;32m--> 247\u001b[0;31m         \u001b[0;32mraise\u001b[0m \u001b[0mexception_class\u001b[0m\u001b[0;34m(\u001b[0m\u001b[0mmessage\u001b[0m\u001b[0;34m,\u001b[0m \u001b[0mscreen\u001b[0m\u001b[0;34m,\u001b[0m \u001b[0mstacktrace\u001b[0m\u001b[0;34m)\u001b[0m\u001b[0;34m\u001b[0m\u001b[0;34m\u001b[0m\u001b[0m\n\u001b[0m\u001b[1;32m    248\u001b[0m \u001b[0;34m\u001b[0m\u001b[0m\n\u001b[1;32m    249\u001b[0m     \u001b[0;32mdef\u001b[0m \u001b[0m_value_or_default\u001b[0m\u001b[0;34m(\u001b[0m\u001b[0mself\u001b[0m\u001b[0;34m,\u001b[0m \u001b[0mobj\u001b[0m\u001b[0;34m:\u001b[0m \u001b[0mMapping\u001b[0m\u001b[0;34m[\u001b[0m\u001b[0m_KT\u001b[0m\u001b[0;34m,\u001b[0m \u001b[0m_VT\u001b[0m\u001b[0;34m]\u001b[0m\u001b[0;34m,\u001b[0m \u001b[0mkey\u001b[0m\u001b[0;34m:\u001b[0m \u001b[0m_KT\u001b[0m\u001b[0;34m,\u001b[0m \u001b[0mdefault\u001b[0m\u001b[0;34m:\u001b[0m \u001b[0m_VT\u001b[0m\u001b[0;34m)\u001b[0m \u001b[0;34m->\u001b[0m \u001b[0m_VT\u001b[0m\u001b[0;34m:\u001b[0m\u001b[0;34m\u001b[0m\u001b[0;34m\u001b[0m\u001b[0m\n",
      "\u001b[0;31mWebDriverException\u001b[0m: Message: disconnected: not connected to DevTools\n  (Session info: chrome=98.0.4758.109)\nStacktrace:\n0   chromedriver                        0x0000000108c1c3c9 chromedriver + 5018569\n1   chromedriver                        0x0000000108ba7333 chromedriver + 4539187\n2   chromedriver                        0x000000010877ca88 chromedriver + 170632\n3   chromedriver                        0x0000000108767448 chromedriver + 83016\n4   chromedriver                        0x0000000108767b4c chromedriver + 84812\n5   chromedriver                        0x00000001087865f4 chromedriver + 210420\n6   chromedriver                        0x000000010877f298 chromedriver + 180888\n7   chromedriver                        0x000000010877ef82 chromedriver + 180098\n8   chromedriver                        0x000000010877f69d chromedriver + 181917\n9   chromedriver                        0x000000010878028d chromedriver + 184973\n10  chromedriver                        0x00000001087e2273 chromedriver + 586355\n11  chromedriver                        0x00000001087ce7e2 chromedriver + 505826\n12  chromedriver                        0x00000001087e1604 chromedriver + 583172\n13  chromedriver                        0x00000001087ce6d3 chromedriver + 505555\n14  chromedriver                        0x00000001087a495e chromedriver + 334174\n15  chromedriver                        0x00000001087a5935 chromedriver + 338229\n16  chromedriver                        0x0000000108bd81ee chromedriver + 4739566\n17  chromedriver                        0x0000000108bf1f51 chromedriver + 4845393\n18  chromedriver                        0x0000000108bf7928 chromedriver + 4868392\n19  chromedriver                        0x0000000108bf2a7a chromedriver + 4848250\n20  chromedriver                        0x0000000108bccc31 chromedriver + 4693041\n21  chromedriver                        0x0000000108c0d978 chromedriver + 4958584\n22  chromedriver                        0x0000000108c0db01 chromedriver + 4958977\n23  chromedriver                        0x0000000108c23795 chromedriver + 5048213\n24  libsystem_pthread.dylib             0x00007ff81190f514 _pthread_start + 125\n25  libsystem_pthread.dylib             0x00007ff81190b02f thread_start + 15\n"
     ]
    }
   ],
   "source": [
    "#navigating to employees and setting parameters\n",
    "#page_to_scrape.get(\"https://www.linkedin.com/search/results/people/?currentCompany=%5B%227510%22%2C%224425%22%2C%2211175823%22%2C%2264990831%22%2C%221223%22%5D&geoUrn=%5B%22102473731%22%5D&origin=FACETED_SEARCH&sid=GCI\")\n",
    "\n",
    "#specify the path to chromedriver.exe (download and save on your computer)\n",
    "#driver = webdriver.Chrome('/usr/local/lib/chromedriver/chromedriver')\n",
    "#Login to LinkedIn + google scrape\n",
    "\n",
    "browser_driver = Service('/usr/local/lib/chromedriver/chromedriver')\n",
    "page_to_scrape = webdriver.Chrome(service=browser_driver)\n",
    "\n",
    "#open page\n",
    "page_to_scrape.get(\"https://www.linkedin.com\")\n",
    "\n",
    "#signing in\n",
    "page_to_scrape.find_element(By.LINK_TEXT, \"Sign in\").click()\n",
    "\n",
    "username = page_to_scrape.find_element(By.ID, \"username\")\n",
    "password = page_to_scrape.find_element(By.ID, \"password\")\n",
    "username.send_keys(\"wanderingonwater@gmail.com\")\n",
    "password.send_keys(\"15Fairies\")\n",
    "\n",
    "page_to_scrape.find_element(By.CSS_SELECTOR, \".btn__primary--large\").click()\n",
    "\n",
    "\n",
    "\n",
    "page_to_scrape.get(\"https://www.google.com/\")\n",
    "\n",
    "page_to_scrape.find_element(By.ID, \"L2AGLb\").click()\n",
    "\n",
    "\n",
    "page_to_scrape.get(\"https://www.google.com/search?q=site%3Alinkedin.com%2Fin%2F+AND+%22US+Army%22&oq=site&aqs=chrome.1.69i57j69i59l2j46i67i199i465j46i199i465i512j0i512j69i65l2.2215j0j7&sourceid=chrome&ie=UTF-8\")\n",
    "\n",
    "#\"site:linkedin.com/in/ AND \"US Army\"\n",
    "time.sleep(0.5)\n",
    "\n",
    "links=[]\n",
    "\n",
    "elems = page_to_scrape.find_elements(By.CSS_SELECTOR,\".yuRUbf [href]\")\n",
    "links = [elem.get_attribute('href') for elem in elems]\n",
    "\n",
    "print(links)\n",
    "\n",
    "#work on pagination\n",
    "#try using dict instead of dynamic var\n",
    "\n",
    "temp=[]\n",
    "i=0\n",
    "while i<3:\n",
    "        time.sleep(0.5)\n",
    "        page_to_scrape.find_element(By.PARTIAL_LINK_TEXT, \"Next\").click()\n",
    "        elems = page_to_scrape.find_elements(By.CSS_SELECTOR,\".yuRUbf [href]\")\n",
    "        temp = [elem.get_attribute('href') for elem in elems]\n",
    "\n",
    "#        time.sleep(0.5)\n",
    "#        page_to_scrape.find_element(By.PARTIAL_LINK_TEXT, \"Next\").click()\n",
    "#        for link in links:\n",
    "#            time.sleep(1)\n",
    "#\n",
    "#            elems = page_to_scrape.find_elements(By.CSS_SELECTOR,\".yuRUbf [href]\")\n",
    "#            temp = [elem.get_attribute('href') for elem in elems]\n",
    "#        \n",
    "            links.extend(temp)\n",
    "            filter(link, links)\n",
    "\n",
    "\n",
    "        \n",
    "    \n",
    "\n",
    "def filter():\n",
    "    for link in links:\n",
    "        if link.startswith(\"https://translate.google.com\"):\n",
    "            links.remove(link)\n",
    "filter(link, links)\n",
    "print(links)"
   ]
  },
  {
   "cell_type": "code",
   "execution_count": 37,
   "id": "5a2042ce",
   "metadata": {},
   "outputs": [
    {
     "name": "stdout",
     "output_type": "stream",
     "text": [
      "['https://www.linkedin.com/in/whoischarlesan', 'https://de.linkedin.com/in/zachary-malone-3b3a44163', 'https://www.linkedin.com/in/u-s-army-1b0a49203', 'https://de.linkedin.com/in/eric-griffin-b7a88976?trk=public_profile_browsemap_profile-result-card_result-card_full-click', 'https://de.linkedin.com/in/lucasbrownforhire', 'https://de.linkedin.com/in/brendanbmcaloon', 'https://de.linkedin.com/in/brian-green-31439478', 'https://de.linkedin.com/in/marie-hunt-8698808b', 'https://de.linkedin.com/in/christian-warner-178512205', 'https://www.linkedin.com/in/alexcarter2016', 'https://www.linkedin.com/in/davidpetraeus', 'https://www.linkedin.com/in/james-dean-06787b9a', 'https://www.linkedin.com/in/alex-hill-7492b0ab', 'https://www.linkedin.com/in/brian-vega-3a021861', 'https://www.linkedin.com/in/dakota-clifton-688045198', 'https://www.linkedin.com/in/marc-daniel-7bb6b9137', 'https://de.linkedin.com/in/norman-henderson-060046197', 'https://www.linkedin.com/in/peter-mueller-6b605b168', 'https://www.linkedin.com/in/nathan-davis-32096187', 'https://www.linkedin.com/in/rocky-brown-a5755518b', 'https://www.linkedin.com/in/solomon-sarfo-b04170182?trk=people-guest_people_search-card', 'https://de.linkedin.com/in/ryan-kirkwood-072635b2?trk=public_profile_browsemap_profile-result-card_result-card_full-click', 'https://www.linkedin.com/in/drrajiyer', 'https://www.linkedin.com/in/terrence-baker-43729085', 'https://www.linkedin.com/in/seanlmcewen', 'https://www.linkedin.com/in/john-king-3990266b', 'https://www.linkedin.com/in/adam-campbell-71978749', 'https://de.linkedin.com/in/carlos-sanchez-69a0aa140', 'https://www.linkedin.com/in/konnor-debeauvernet-b7aa38147', 'https://www.linkedin.com/in/travis-e-robison', 'https://de.linkedin.com/in/bobby-patel-8482441bb', 'https://de.linkedin.com/in/marco-lopez-54306449', 'https://www.linkedin.com/in/mark-jones-1152301aa', 'https://www.linkedin.com/in/shiva-pant-6423877a', 'https://www.linkedin.com/in/john-wick-267b4219b', 'https://de.linkedin.com/in/ronald-delacruz-b328945a', 'https://www.linkedin.com/in/john-daniels-06819a6', 'https://www.google.com/search?biw=1200&bih=607&q=related:https://www.linkedin.com/in/john-daniels-06819a6&sa=X&ved=2ahUKEwi3ztjhoLf2AhU3S_EDHUwRDp84HhAfegQIDRAG', 'https://www.linkedin.com/in/amobi-christopher-829335158', 'https://www.linkedin.com/in/stubbs-usa-jds75', 'https://www.linkedin.com/in/hunter-garth-72b095116', 'https://www.linkedin.com/in/jorge-mejia-875b64130', 'https://de.linkedin.com/in/kate-o%E2%80%99sullivan-440779172?trk=public_profile_browsemap_profile-result-card_result-card_full-click', 'https://www.linkedin.com/in/john-traver', 'https://www.linkedin.com/in/jhampton46290', 'https://www.linkedin.com/in/william-thomas-791b314b', 'https://www.google.com/search?biw=1200&bih=607&q=related:https://www.linkedin.com/in/william-thomas-791b314b&sa=X&ved=2ahUKEwis3cm6oLf2AhXUR_EDHWaKBrI4KBAfegQIDRAG&cshid=1646767977953637', 'https://www.linkedin.com/in/terrence-robinson-60233485', 'https://www.linkedin.com/in/alexis-alexander-373264197', 'https://www.linkedin.com/in/charles-%E2%80%9Cchuck%E2%80%9D-allen-679651', 'https://it.linkedin.com/in/kurt-cyr-60a3b863', 'https://www.linkedin.com/in/mark-armstrong-6851b4125', 'https://de.linkedin.com/in/eric-burton-80a947a0', 'https://www.linkedin.com/in/eddie-barba-2ab0b1a8', 'https://www.linkedin.com/in/aaron-burr-82186872', 'https://www.linkedin.com/in/ronald-taylor-710816118', 'https://www.linkedin.com/in/alicia-cummings-642b7149', 'https://www.linkedin.com/in/joshua-martin-2b009b82', 'https://www.linkedin.com/in/rodney-moore-978871a1', 'https://www.linkedin.com/in/raul-esteraspalos-813621158', 'https://www.linkedin.com/in/shawn-dixon-90bba849', 'https://www.linkedin.com/in/amy-taylor-220b01125', 'https://www.linkedin.com/in/james-jernigan-3b109535', 'https://www.linkedin.com/in/ibrahim-canbaz-7b81828', 'https://www.linkedin.com/in/kevin-hu-22a821b4', 'https://www.linkedin.com/in/adley-casimir-5446a7193?trk=public_profile_browsemap', 'https://www.linkedin.com/in/jean-ebanda-841901175', 'https://www.linkedin.com/in/rebecca-a-deforest', 'https://www.linkedin.com/in/the-tony-nash', 'https://www.linkedin.com/in/micheal-castro-8003181b8', 'https://www.linkedin.com/in/pies-us-224a13b4', 'https://www.linkedin.com/in/alexander-see-27523617a', 'https://www.linkedin.com/in/adrian-cervantes-3a43b9150', 'https://www.linkedin.com/in/james-peterson-59baa1196', 'https://de.linkedin.com/in/erica-mercado-42b314190', 'https://www.linkedin.com/in/steven-allen-278b6b113', 'https://www.linkedin.com/in/army-general-6aa22b1a2', 'https://www.linkedin.com/in/michael-nelson-965948208?trk=public_profile_browsemap', 'https://www.linkedin.com/in/maria-barrett-32b0101a', 'https://www.google.com/search?biw=1200&bih=607&q=related:https://www.linkedin.com/in/maria-barrett-32b0101a&sa=X&ved=2ahUKEwiKj5_moLf2AhVsSfEDHZbnBOQ4RhAfegQIDhAG', 'https://www.linkedin.com/in/rebecca-goebel', 'https://www.linkedin.com/in/acwilson', 'https://www.google.com/search?biw=1200&bih=607&q=related:https://www.linkedin.com/in/acwilson&sa=X&ved=2ahUKEwiKj5_moLf2AhVsSfEDHZbnBOQ4RhAfegQICxAG', 'https://www.linkedin.com/in/jun-huang-72453819a', 'https://www.linkedin.com/in/eunice-meadoux-660a6149', 'https://www.linkedin.com/in/justin-armenta-1b5ba3a0', 'https://www.linkedin.com/in/daniel-correa-014b92180', 'https://www.linkedin.com/in/fredrick-king-97a0b6106', 'https://www.linkedin.com/in/andrew-martin-a84434110', 'https://www.linkedin.com/in/patrick-buckley-163744142', 'https://www.linkedin.com/in/sgt-erik-potgieter-22b826b0', 'https://www.linkedin.com/in/john-cousins-81a28394', 'https://www.linkedin.com/in/bryan-schnell-1b121695', 'https://www.linkedin.com/in/william-littleton-446500b3', 'https://www.linkedin.com/in/jennifer-dennis-82a6588a', 'https://de.linkedin.com/in/dave-turner-7338651a', 'https://www.linkedin.com/in/scott-sonsalla-2471206', 'https://www.linkedin.com/in/kyle-love-9833861a6', 'https://www.linkedin.com/in/zac-buenger-8717ba184', 'https://uk.linkedin.com/in/matthew-van-wagenen-430a121aa', 'https://www.linkedin.com/in/hector-cantillo', 'https://www.linkedin.com/in/barron-lehleitner-156853116', 'https://www.linkedin.com/in/charlotte-levine-8676577b', 'https://www.google.com/search?biw=1200&bih=607&q=related:https://www.linkedin.com/in/charlotte-levine-8676577b&sa=X&ved=2ahUKEwjj7NvooLf2AhXxQ_EDHRuvDCQ4WhAfegQICRAG', 'https://www.linkedin.com/in/joshua-jones-49913492', 'https://www.linkedin.com/in/wesley-woods-990073216', 'https://www.linkedin.com/in/kristina-feller-6048b8161', 'https://www.linkedin.com/in/marcus-acosta', 'https://www.linkedin.com/in/ncheld', 'https://www.linkedin.com/in/scott-cline-45b71217', 'https://www.linkedin.com/in/christopher-dixon-92490573', 'https://www.linkedin.com/in/dan-fountain-b58a7b55', 'https://www.linkedin.com/in/marvin-washington-77935291', 'https://www.linkedin.com/in/logan-williams-2b83511bb']\n"
     ]
    }
   ],
   "source": [
    "page_to_scrape.get(\"https://www.google.com/search?q=site%3Alinkedin.com%2Fin%2F+AND+%22US+Army%22&oq=site&aqs=chrome.1.69i57j69i59l2j46i67i199i465j46i199i465i512j0i512j69i65l2.2215j0j7&sourceid=chrome&ie=UTF-8\")\n",
    "\n",
    "#\"site:linkedin.com/in/ AND \"US Army\"\"\n",
    "time.sleep(0.5)\n",
    "\n",
    "links=[]\n",
    "\n",
    "elems = page_to_scrape.find_elements(By.CSS_SELECTOR,\".yuRUbf [href]\")\n",
    "links = [elem.get_attribute('href') for elem in elems]\n",
    "\n",
    "\n",
    "temp=[]\n",
    "i=0\n",
    "while i<10:\n",
    "        time.sleep(0.5)\n",
    "        page_to_scrape.find_element(By.PARTIAL_LINK_TEXT, \"Next\").click()\n",
    "        time.sleep(1)\n",
    "        \n",
    "        elems = page_to_scrape.find_elements(By.CSS_SELECTOR,\".yuRUbf [href]\")\n",
    "        temp = [elem.get_attribute('href') for elem in elems]\n",
    "        links.extend(temp)\n",
    "        filter(link, links)\n",
    "        i+=1\n",
    "        \n",
    "for link in links:\n",
    "    if link.startswith(\"https://translate.google.com\") or link.startswith(\"https://www.google.com/search\"):\n",
    "        links.remove(link)\n",
    "print(links)"
   ]
  },
  {
   "cell_type": "code",
   "execution_count": 5,
   "id": "fef4f61c",
   "metadata": {},
   "outputs": [
    {
     "name": "stdout",
     "output_type": "stream",
     "text": [
      "['https://www.linkedin.com/in/whoischarlesan', 'https://de.linkedin.com/in/zachary-malone-3b3a44163', 'https://www.linkedin.com/in/u-s-army-1b0a49203', 'https://de.linkedin.com/in/eric-griffin-b7a88976?trk=public_profile_browsemap_profile-result-card_result-card_full-click', 'https://de.linkedin.com/in/brendanbmcaloon', 'https://de.linkedin.com/in/lucasbrownforhire', 'https://de.linkedin.com/in/brian-green-31439478', 'https://de.linkedin.com/in/marie-hunt-8698808b', 'https://www.linkedin.com/in/davidpetraeus']\n"
     ]
    }
   ],
   "source": [
    "page_to_scrape.get(\"https://www.google.com/search?q=site%3Alinkedin.com%2Fin%2F+AND+%22US+Army%22&sxsrf=APq-WBs5Of4zbgczdEZVNcu2QlGKDNRzSg%3A1646209910999&ei=disfYuy-PNbh7_UPrI-4yAo&ved=0ahUKEwjs0eHngaf2AhXW8LsIHawHDqkQ4dUDCA4&uact=5&oq=site%3Alinkedin.com%2Fin%2F+AND+%22US+Army%22&gs_lcp=Cgdnd3Mtd2l6EANKBAhBGAFKBAhGGABQ-htY6SZg9ChoBXAAeACAAUSIAX2SAQEymAEAoAEBwAEB&sclient=gws-wiz\")\n",
    "\n",
    "time.sleep(0.5)\n",
    "\n",
    "elems = page_to_scrape.find_elements(By.CSS_SELECTOR,\".yuRUbf [href]\")\n",
    "links = [elem.get_attribute('href') for elem in elems]\n",
    "\n",
    "for link in links:\n",
    "    if link.startswith(\"https://translate.google.com\"):\n",
    "        links.remove()\n",
    "\n",
    "print(links)\n",
    "\n",
    "with open(\"scrape_demo.csv\", \"w\") as file:\n",
    "    wr=csv.writer(file, quoting=csv.QUOTE_ALL)\n",
    "    for link in links:\n",
    "        wr.writerow([link])\n",
    "\n",
    "\n",
    "file.close()"
   ]
  },
  {
   "cell_type": "code",
   "execution_count": null,
   "id": "8a6c871a",
   "metadata": {},
   "outputs": [],
   "source": [
    "names=[]\n",
    "jobs=[]\n",
    "areas=[]\n",
    "contacts=[]\n",
    "pictures=[]\n",
    "\n",
    "\n",
    "for link in links:\n",
    "    page_to_scrape.get(link)\n",
    "    time.sleep(3)\n",
    "    \n",
    "    name=page_to_scrape.find_element(By.XPATH, \"//section[@id='ember37']/div[2]/div[2]/div/div/h1\")\n",
    "    names.append(name.text)\n",
    "    \n",
    "    job=page_to_scrape.find_element(By.XPATH, \"//section[@id='ember37']/div[2]/div[2]/div/div[2]\")\n",
    "    jobs.append(job.text)\n",
    "    \n",
    "    area=page_to_scrape.find_element(By.XPATH, \"//section[@id='ember37']/div[2]/div[2]/div[2]/span\")\n",
    "    areas.append(area.text)\n",
    "    \n",
    "    page_to_scrape.find_element(By.CSS, \"#ember498 > .artdeco-button__text\").click()\n",
    "    \n",
    "    try:\n",
    "        contact=page_to_scrape.find_element(By.CSS, \"#ember69 > .pv-contact-info__contact-link\")\n",
    "    except NoSuchElementException:\n",
    "    contacts.append(contact_info)\n",
    "    \n",
    "    picture=page_to_scrape.find_element(By.ID, \"ember39\")\n",
    "    pictures.append(picture.text)\n",
    "\n",
    "\n",
    "\n",
    "    \n",
    "    \n",
    "print(names)\n",
    "print(jobs)\n",
    "print(areas)\n",
    "#links=['https://de.linkedin.com/in/pvu51', 'https://de.linkedin.com/in/ausastuttgart', 'https://de.linkedin.com/in/dag-kregenow-12378887', 'https://de.linkedin.com/in/mkoepplinger', 'https://de.linkedin.com/in/deborahschwisow', 'https://de.linkedin.com/in/jason-ballinger-8965b850', 'https://de.linkedin.com/in/nicholas-patterson-22794b96', 'https://de.linkedin.com/in/scott-carter-84112846', 'https://de.linkedin.com/in/geoffrey-morris-6a75251b6', 'https://de.linkedin.com/in/devon-marable-987a06b2']"
   ]
  },
  {
   "cell_type": "code",
   "execution_count": 39,
   "id": "4d5a10d5",
   "metadata": {},
   "outputs": [
    {
     "name": "stdout",
     "output_type": "stream",
     "text": [
      "{'links1': [1], 'links2': [2], 'links3': [3], 'links4': [4], 'links5': [5]}\n",
      "[0, 1, 2, 3, 4, 5]\n"
     ]
    }
   ],
   "source": [
    "import csv\n",
    "\n",
    "\n",
    "x=[1,2,3,4,5]\n",
    "links=[0]\n",
    "\n",
    "\n",
    "dct = {}\n",
    "for i in x:\n",
    "    dct['links%s' % i] = [i]\n",
    "    links.extend(dct['links%s' % i])\n",
    "    \n",
    "print(dct)\n",
    "print(links)\n",
    "\n",
    "\n",
    "\n",
    "\n",
    "\n",
    "with open(\"trial.csv\", \"w\") as file:\n",
    "    wr=csv.writer(file, quoting=csv.QUOTE_ALL)\n",
    "    for link in links:\n",
    "        wr.writerow([link])\n",
    "\n",
    "\n",
    "file.close()\n",
    "\n",
    "\n",
    "\n",
    "\n",
    "with open(\"trial2.csv\", \"w\") as file2:\n",
    "    wr=csv.writer(file2)\n",
    "    wr.writerow([links])\n",
    "\n",
    "\n",
    "file2.close()\n",
    "\n",
    "\n",
    "\n",
    "#page_to_scrape.get(https://www.linkedin.com/in/pvu51/overlay/contact-info/)\n",
    "#page_to_scrape.get(https://www.linkedin.com/in/pvu51/overlay/contact-info/)\n"
   ]
  },
  {
   "cell_type": "code",
   "execution_count": 33,
   "id": "436b98ab",
   "metadata": {},
   "outputs": [
    {
     "ename": "NoSuchElementException",
     "evalue": "Message: no such element: Unable to locate element: {\"method\":\"xpath\",\"selector\":\"//section[@id='ember37']/div[2]/div[2]/div/div/h1\"}\n  (Session info: chrome=99.0.4844.51)\nStacktrace:\n0   chromedriver                        0x00000001083a03c9 chromedriver + 5018569\n1   chromedriver                        0x000000010832b333 chromedriver + 4539187\n2   chromedriver                        0x0000000107f00a88 chromedriver + 170632\n3   chromedriver                        0x0000000107f35332 chromedriver + 385842\n4   chromedriver                        0x0000000107f354f1 chromedriver + 386289\n5   chromedriver                        0x0000000107f678b4 chromedriver + 592052\n6   chromedriver                        0x0000000107f5280d chromedriver + 505869\n7   chromedriver                        0x0000000107f65604 chromedriver + 583172\n8   chromedriver                        0x0000000107f526d3 chromedriver + 505555\n9   chromedriver                        0x0000000107f2895e chromedriver + 334174\n10  chromedriver                        0x0000000107f29935 chromedriver + 338229\n11  chromedriver                        0x000000010835c1ee chromedriver + 4739566\n12  chromedriver                        0x0000000108375f51 chromedriver + 4845393\n13  chromedriver                        0x000000010837b928 chromedriver + 4868392\n14  chromedriver                        0x0000000108376a7a chromedriver + 4848250\n15  chromedriver                        0x0000000108350c31 chromedriver + 4693041\n16  chromedriver                        0x0000000108391978 chromedriver + 4958584\n17  chromedriver                        0x0000000108391b01 chromedriver + 4958977\n18  chromedriver                        0x00000001083a7795 chromedriver + 5048213\n19  libsystem_pthread.dylib             0x00007ff8181a9514 _pthread_start + 125\n20  libsystem_pthread.dylib             0x00007ff8181a502f thread_start + 15\n",
     "output_type": "error",
     "traceback": [
      "\u001b[0;31m---------------------------------------------------------------------------\u001b[0m",
      "\u001b[0;31mNoSuchElementException\u001b[0m                    Traceback (most recent call last)",
      "\u001b[0;32m/var/folders/h9/gjl0cmmn7wggh47qkzzfvbh80000gn/T/ipykernel_12620/808240912.py\u001b[0m in \u001b[0;36m<module>\u001b[0;34m\u001b[0m\n\u001b[1;32m     10\u001b[0m     \u001b[0mtime\u001b[0m\u001b[0;34m.\u001b[0m\u001b[0msleep\u001b[0m\u001b[0;34m(\u001b[0m\u001b[0;36m1\u001b[0m\u001b[0;34m)\u001b[0m\u001b[0;34m\u001b[0m\u001b[0;34m\u001b[0m\u001b[0m\n\u001b[1;32m     11\u001b[0m \u001b[0;34m\u001b[0m\u001b[0m\n\u001b[0;32m---> 12\u001b[0;31m     \u001b[0mname\u001b[0m\u001b[0;34m=\u001b[0m\u001b[0mpage_to_scrape\u001b[0m\u001b[0;34m.\u001b[0m\u001b[0mfind_element\u001b[0m\u001b[0;34m(\u001b[0m\u001b[0mBy\u001b[0m\u001b[0;34m.\u001b[0m\u001b[0mXPATH\u001b[0m\u001b[0;34m,\u001b[0m \u001b[0;34m\"//section[@id='ember37']/div[2]/div[2]/div/div/h1\"\u001b[0m\u001b[0;34m)\u001b[0m\u001b[0;34m\u001b[0m\u001b[0;34m\u001b[0m\u001b[0m\n\u001b[0m\u001b[1;32m     13\u001b[0m     \u001b[0mname_test\u001b[0m\u001b[0;34m.\u001b[0m\u001b[0mappend\u001b[0m\u001b[0;34m(\u001b[0m\u001b[0mname\u001b[0m\u001b[0;34m.\u001b[0m\u001b[0mtext\u001b[0m\u001b[0;34m)\u001b[0m\u001b[0;34m\u001b[0m\u001b[0;34m\u001b[0m\u001b[0m\n\u001b[1;32m     14\u001b[0m \u001b[0;34m\u001b[0m\u001b[0m\n",
      "\u001b[0;32m/usr/local/lib/python3.9/site-packages/selenium/webdriver/remote/webdriver.py\u001b[0m in \u001b[0;36mfind_element\u001b[0;34m(self, by, value)\u001b[0m\n\u001b[1;32m   1242\u001b[0m             \u001b[0mvalue\u001b[0m \u001b[0;34m=\u001b[0m \u001b[0;34m'[name=\"%s\"]'\u001b[0m \u001b[0;34m%\u001b[0m \u001b[0mvalue\u001b[0m\u001b[0;34m\u001b[0m\u001b[0;34m\u001b[0m\u001b[0m\n\u001b[1;32m   1243\u001b[0m \u001b[0;34m\u001b[0m\u001b[0m\n\u001b[0;32m-> 1244\u001b[0;31m         return self.execute(Command.FIND_ELEMENT, {\n\u001b[0m\u001b[1;32m   1245\u001b[0m             \u001b[0;34m'using'\u001b[0m\u001b[0;34m:\u001b[0m \u001b[0mby\u001b[0m\u001b[0;34m,\u001b[0m\u001b[0;34m\u001b[0m\u001b[0;34m\u001b[0m\u001b[0m\n\u001b[1;32m   1246\u001b[0m             'value': value})['value']\n",
      "\u001b[0;32m/usr/local/lib/python3.9/site-packages/selenium/webdriver/remote/webdriver.py\u001b[0m in \u001b[0;36mexecute\u001b[0;34m(self, driver_command, params)\u001b[0m\n\u001b[1;32m    422\u001b[0m         \u001b[0mresponse\u001b[0m \u001b[0;34m=\u001b[0m \u001b[0mself\u001b[0m\u001b[0;34m.\u001b[0m\u001b[0mcommand_executor\u001b[0m\u001b[0;34m.\u001b[0m\u001b[0mexecute\u001b[0m\u001b[0;34m(\u001b[0m\u001b[0mdriver_command\u001b[0m\u001b[0;34m,\u001b[0m \u001b[0mparams\u001b[0m\u001b[0;34m)\u001b[0m\u001b[0;34m\u001b[0m\u001b[0;34m\u001b[0m\u001b[0m\n\u001b[1;32m    423\u001b[0m         \u001b[0;32mif\u001b[0m \u001b[0mresponse\u001b[0m\u001b[0;34m:\u001b[0m\u001b[0;34m\u001b[0m\u001b[0;34m\u001b[0m\u001b[0m\n\u001b[0;32m--> 424\u001b[0;31m             \u001b[0mself\u001b[0m\u001b[0;34m.\u001b[0m\u001b[0merror_handler\u001b[0m\u001b[0;34m.\u001b[0m\u001b[0mcheck_response\u001b[0m\u001b[0;34m(\u001b[0m\u001b[0mresponse\u001b[0m\u001b[0;34m)\u001b[0m\u001b[0;34m\u001b[0m\u001b[0;34m\u001b[0m\u001b[0m\n\u001b[0m\u001b[1;32m    425\u001b[0m             response['value'] = self._unwrap_value(\n\u001b[1;32m    426\u001b[0m                 response.get('value', None))\n",
      "\u001b[0;32m/usr/local/lib/python3.9/site-packages/selenium/webdriver/remote/errorhandler.py\u001b[0m in \u001b[0;36mcheck_response\u001b[0;34m(self, response)\u001b[0m\n\u001b[1;32m    245\u001b[0m                 \u001b[0malert_text\u001b[0m \u001b[0;34m=\u001b[0m \u001b[0mvalue\u001b[0m\u001b[0;34m[\u001b[0m\u001b[0;34m'alert'\u001b[0m\u001b[0;34m]\u001b[0m\u001b[0;34m.\u001b[0m\u001b[0mget\u001b[0m\u001b[0;34m(\u001b[0m\u001b[0;34m'text'\u001b[0m\u001b[0;34m)\u001b[0m\u001b[0;34m\u001b[0m\u001b[0;34m\u001b[0m\u001b[0m\n\u001b[1;32m    246\u001b[0m             \u001b[0;32mraise\u001b[0m \u001b[0mexception_class\u001b[0m\u001b[0;34m(\u001b[0m\u001b[0mmessage\u001b[0m\u001b[0;34m,\u001b[0m \u001b[0mscreen\u001b[0m\u001b[0;34m,\u001b[0m \u001b[0mstacktrace\u001b[0m\u001b[0;34m,\u001b[0m \u001b[0malert_text\u001b[0m\u001b[0;34m)\u001b[0m  \u001b[0;31m# type: ignore[call-arg]  # mypy is not smart enough here\u001b[0m\u001b[0;34m\u001b[0m\u001b[0;34m\u001b[0m\u001b[0m\n\u001b[0;32m--> 247\u001b[0;31m         \u001b[0;32mraise\u001b[0m \u001b[0mexception_class\u001b[0m\u001b[0;34m(\u001b[0m\u001b[0mmessage\u001b[0m\u001b[0;34m,\u001b[0m \u001b[0mscreen\u001b[0m\u001b[0;34m,\u001b[0m \u001b[0mstacktrace\u001b[0m\u001b[0;34m)\u001b[0m\u001b[0;34m\u001b[0m\u001b[0;34m\u001b[0m\u001b[0m\n\u001b[0m\u001b[1;32m    248\u001b[0m \u001b[0;34m\u001b[0m\u001b[0m\n\u001b[1;32m    249\u001b[0m     \u001b[0;32mdef\u001b[0m \u001b[0m_value_or_default\u001b[0m\u001b[0;34m(\u001b[0m\u001b[0mself\u001b[0m\u001b[0;34m,\u001b[0m \u001b[0mobj\u001b[0m\u001b[0;34m:\u001b[0m \u001b[0mMapping\u001b[0m\u001b[0;34m[\u001b[0m\u001b[0m_KT\u001b[0m\u001b[0;34m,\u001b[0m \u001b[0m_VT\u001b[0m\u001b[0;34m]\u001b[0m\u001b[0;34m,\u001b[0m \u001b[0mkey\u001b[0m\u001b[0;34m:\u001b[0m \u001b[0m_KT\u001b[0m\u001b[0;34m,\u001b[0m \u001b[0mdefault\u001b[0m\u001b[0;34m:\u001b[0m \u001b[0m_VT\u001b[0m\u001b[0;34m)\u001b[0m \u001b[0;34m->\u001b[0m \u001b[0m_VT\u001b[0m\u001b[0;34m:\u001b[0m\u001b[0;34m\u001b[0m\u001b[0;34m\u001b[0m\u001b[0m\n",
      "\u001b[0;31mNoSuchElementException\u001b[0m: Message: no such element: Unable to locate element: {\"method\":\"xpath\",\"selector\":\"//section[@id='ember37']/div[2]/div[2]/div/div/h1\"}\n  (Session info: chrome=99.0.4844.51)\nStacktrace:\n0   chromedriver                        0x00000001083a03c9 chromedriver + 5018569\n1   chromedriver                        0x000000010832b333 chromedriver + 4539187\n2   chromedriver                        0x0000000107f00a88 chromedriver + 170632\n3   chromedriver                        0x0000000107f35332 chromedriver + 385842\n4   chromedriver                        0x0000000107f354f1 chromedriver + 386289\n5   chromedriver                        0x0000000107f678b4 chromedriver + 592052\n6   chromedriver                        0x0000000107f5280d chromedriver + 505869\n7   chromedriver                        0x0000000107f65604 chromedriver + 583172\n8   chromedriver                        0x0000000107f526d3 chromedriver + 505555\n9   chromedriver                        0x0000000107f2895e chromedriver + 334174\n10  chromedriver                        0x0000000107f29935 chromedriver + 338229\n11  chromedriver                        0x000000010835c1ee chromedriver + 4739566\n12  chromedriver                        0x0000000108375f51 chromedriver + 4845393\n13  chromedriver                        0x000000010837b928 chromedriver + 4868392\n14  chromedriver                        0x0000000108376a7a chromedriver + 4848250\n15  chromedriver                        0x0000000108350c31 chromedriver + 4693041\n16  chromedriver                        0x0000000108391978 chromedriver + 4958584\n17  chromedriver                        0x0000000108391b01 chromedriver + 4958977\n18  chromedriver                        0x00000001083a7795 chromedriver + 5048213\n19  libsystem_pthread.dylib             0x00007ff8181a9514 _pthread_start + 125\n20  libsystem_pthread.dylib             0x00007ff8181a502f thread_start + 15\n"
     ]
    }
   ],
   "source": [
    "name_test=[]\n",
    "job_test=[]\n",
    "area_test=[]\n",
    "\n",
    "links=['https://www.linkedin.com/in/whoischarlesan', 'https://www.linkedin.com/in/u-s-army-1b0a49203', 'https://de.linkedin.com/in/lucasbrownforhire', 'https://de.linkedin.com/in/brendanbmcaloon', 'https://de.linkedin.com/in/brian-green-31439478', 'https://de.linkedin.com/in/marie-hunt-8698808b', 'https://de.linkedin.com/in/christian-warner-178512205', 'https://www.linkedin.com/in/alexcarter2016']\n",
    "\n",
    "\n",
    "for link in links:\n",
    "    page_to_scrape.get(link)\n",
    "    time.sleep(1)\n",
    "    \n",
    "    name=page_to_scrape.find_element(By.XPATH, \"//section[@id='ember37']/div[2]/div[2]/div/div/h1\")\n",
    "    name_test.append(name.text)\n",
    "    \n",
    "    job=page_to_scrape.find_element(By.XPATH, \"//section[@id='ember37']/div[2]/div[2]/div/div[2]\")\n",
    "    job_test.append(job.text)\n",
    "    \n",
    "    area=page_to_scrape.find_element(By.XPATH, \"//section[@id='ember37']/div[2]/div[2]/div[2]/span\")\n",
    "    area_test.append(area.text)\n",
    "\n",
    "    \n",
    "    \n",
    "print(name_test)\n",
    "print(job_test)\n",
    "print(area_test)"
   ]
  },
  {
   "cell_type": "code",
   "execution_count": null,
   "id": "6fd0d6b2",
   "metadata": {},
   "outputs": [],
   "source": [
    "name_test=[]\n",
    "\n",
    "page_to_scrape.get('https://de.linkedin.com/in/zachary-malone-3b3a44163')\n",
    "time.sleep(1)\n",
    "\n",
    "name=page_to_scrape.find_element(By.XPATH, \"//section[@id='ember37']/div[2]/div[2]/div/div/h1\")\n",
    "name_test.append(name.text)\n",
    "\n",
    "print(name_test)"
   ]
  },
  {
   "cell_type": "code",
   "execution_count": null,
   "id": "359b1d1e",
   "metadata": {},
   "outputs": [],
   "source": []
  }
 ],
 "metadata": {
  "kernelspec": {
   "display_name": "Python 3 (ipykernel)",
   "language": "python",
   "name": "python3"
  },
  "language_info": {
   "codemirror_mode": {
    "name": "ipython",
    "version": 3
   },
   "file_extension": ".py",
   "mimetype": "text/x-python",
   "name": "python",
   "nbconvert_exporter": "python",
   "pygments_lexer": "ipython3",
   "version": "3.9.8"
  }
 },
 "nbformat": 4,
 "nbformat_minor": 5
}
