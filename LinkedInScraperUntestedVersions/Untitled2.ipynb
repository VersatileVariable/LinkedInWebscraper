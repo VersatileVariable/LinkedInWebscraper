{
 "cells": [
  {
   "cell_type": "code",
   "execution_count": 6,
   "id": "4a2d5c46",
   "metadata": {},
   "outputs": [
    {
     "name": "stdout",
     "output_type": "stream",
     "text": [
      "\u001b[33mDEPRECATION: Configuring installation scheme with distutils config files is deprecated and will no longer work in the near future. If you are using a Homebrew or Linuxbrew Python, please see discussion at https://github.com/Homebrew/homebrew-core/issues/76621\u001b[0m\u001b[33m\n",
      "\u001b[0m\u001b[33mDEPRECATION: Configuring installation scheme with distutils config files is deprecated and will no longer work in the near future. If you are using a Homebrew or Linuxbrew Python, please see discussion at https://github.com/Homebrew/homebrew-core/issues/76621\u001b[0m\u001b[33m\n",
      "\u001b[0m\u001b[33mWARNING: You are using pip version 22.0.3; however, version 23.0.1 is available.\n",
      "You should consider upgrading via the '/usr/local/opt/python@3.9/bin/python3.9 -m pip install --upgrade pip' command.\u001b[0m\u001b[33m\n",
      "\u001b[0m"
     ]
    }
   ],
   "source": [
    "!pip install pyjanitor pyvis --quiet"
   ]
  },
  {
   "cell_type": "code",
   "execution_count": 7,
   "id": "24c75477",
   "metadata": {},
   "outputs": [
    {
     "name": "stdout",
     "output_type": "stream",
     "text": [
      "<class 'pandas.core.frame.DataFrame'>\n",
      "RangeIndex: 221 entries, 0 to 220\n",
      "Data columns (total 6 columns):\n",
      " #   Column         Non-Null Count  Dtype \n",
      "---  ------         --------------  ----- \n",
      " 0   First Name     217 non-null    object\n",
      " 1   Last Name      217 non-null    object\n",
      " 2   Email Address  1 non-null      object\n",
      " 3   Company        212 non-null    object\n",
      " 4   Position       213 non-null    object\n",
      " 5   Connected On   221 non-null    object\n",
      "dtypes: object(6)\n",
      "memory usage: 10.5+ KB\n"
     ]
    }
   ],
   "source": [
    "import pandas as pd\n",
    "import janitor\n",
    "import datetime\n",
    "\n",
    "from IPython.core.display import display, HTML\n",
    "from pyvis import network as net\n",
    "import networkx as nx\n",
    "\n",
    "df_ori = pd.read_csv(\"/users/annagaleano/downloads/Connections.csv\", skiprows=2)\n",
    "df_ori.info()"
   ]
  },
  {
   "cell_type": "code",
   "execution_count": 8,
   "id": "768b78aa",
   "metadata": {},
   "outputs": [
    {
     "ename": "SyntaxError",
     "evalue": "unexpected EOF while parsing (2643940525.py, line 14)",
     "output_type": "error",
     "traceback": [
      "\u001b[0;36m  File \u001b[0;32m\"/var/folders/h9/gjl0cmmn7wggh47qkzzfvbh80000gn/T/ipykernel_4378/2643940525.py\"\u001b[0;36m, line \u001b[0;32m14\u001b[0m\n\u001b[0;31m    display(HTML('nodes.html')\u001b[0m\n\u001b[0m                              ^\u001b[0m\n\u001b[0;31mSyntaxError\u001b[0m\u001b[0;31m:\u001b[0m unexpected EOF while parsing\n"
     ]
    }
   ],
   "source": [
    "nt = net.Network(notebook=True)\n",
    "\n",
    "g = nx.Graph()\n",
    "g.add_node(0, label = \"root\") # intialize yourself as central node\n",
    "g.add_node(1, label = \"Company 1\", size=10, title=\"info1\")\n",
    "g.add_node(2, label = \"Company 2\", size=40, title=\"info2\")\n",
    "g.add_node(3, label = \"Company 3\", size=60, title=\"info3\")\n",
    "g.add_edge(0, 1)\n",
    "g.add_edge(0, 2)\n",
    "g.add_edge(0, 3)\n",
    "\n",
    "nt.from_nx(g)\n",
    "nt.show('nodes.html')\n",
    "display(HTML('nodes.html')"
   ]
  },
  {
   "cell_type": "code",
   "execution_count": 4,
   "id": "fdae330c",
   "metadata": {},
   "outputs": [
    {
     "name": "stdout",
     "output_type": "stream",
     "text": [
      "number of nodes: 4\n",
      "number of edges: 3\n"
     ]
    }
   ],
   "source": [
    "print(f\"number of nodes: {g.number_of_nodes()}\")\n",
    "print(f\"number of edges: {g.number_of_edges()}\")"
   ]
  },
  {
   "cell_type": "code",
   "execution_count": null,
   "id": "522f5457",
   "metadata": {},
   "outputs": [],
   "source": [
    "print(df_company.shape)\n",
    "df_company_reduced = df_company.loc[df_company['count']>=5]\n",
    "print(df_company_reduced.shape)\n",
    "print(df_position.shape)\n",
    "df_position_reduced = df_position.loc[df_position['count']>=5]\n",
    "print(df_position_reduced.shape)"
   ]
  }
 ],
 "metadata": {
  "kernelspec": {
   "display_name": "Python 3 (ipykernel)",
   "language": "python",
   "name": "python3"
  },
  "language_info": {
   "codemirror_mode": {
    "name": "ipython",
    "version": 3
   },
   "file_extension": ".py",
   "mimetype": "text/x-python",
   "name": "python",
   "nbconvert_exporter": "python",
   "pygments_lexer": "ipython3",
   "version": "3.9.8"
  }
 },
 "nbformat": 4,
 "nbformat_minor": 5
}
