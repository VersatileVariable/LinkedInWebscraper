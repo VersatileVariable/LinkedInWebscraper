{
 "cells": [
  {
   "cell_type": "code",
   "execution_count": 3,
   "id": "5ae3a403",
   "metadata": {},
   "outputs": [
    {
     "name": "stderr",
     "output_type": "stream",
     "text": [
      "/var/folders/h9/gjl0cmmn7wggh47qkzzfvbh80000gn/T/ipykernel_13754/733107767.py:5: DeprecationWarning: executable_path has been deprecated, please pass in a Service object\n",
      "  driver = webdriver.Chrome('/usr/local/lib/chromedriver/chromedriver')\n",
      "/var/folders/h9/gjl0cmmn7wggh47qkzzfvbh80000gn/T/ipykernel_13754/733107767.py:11: DeprecationWarning: find_element_by_* commands are deprecated. Please use find_element() instead\n",
      "  username = driver.find_element_by_class_name('login-email')\n"
     ]
    },
    {
     "ename": "NoSuchElementException",
     "evalue": "Message: no such element: Unable to locate element: {\"method\":\"css selector\",\"selector\":\".login-email\"}\n  (Session info: chrome=96.0.4664.110)\nStacktrace:\n0   chromedriver                        0x0000000108846269 __gxx_personality_v0 + 582729\n1   chromedriver                        0x00000001087d1c33 __gxx_personality_v0 + 106003\n2   chromedriver                        0x000000010838ee28 chromedriver + 171560\n3   chromedriver                        0x00000001083c43d2 chromedriver + 390098\n4   chromedriver                        0x00000001083c4591 chromedriver + 390545\n5   chromedriver                        0x00000001083f66b4 chromedriver + 595636\n6   chromedriver                        0x00000001083e19fd chromedriver + 510461\n7   chromedriver                        0x00000001083f4462 chromedriver + 586850\n8   chromedriver                        0x00000001083e1c23 chromedriver + 511011\n9   chromedriver                        0x00000001083b775e chromedriver + 337758\n10  chromedriver                        0x00000001083b8a95 chromedriver + 342677\n11  chromedriver                        0x00000001088028ab __gxx_personality_v0 + 305803\n12  chromedriver                        0x0000000108819863 __gxx_personality_v0 + 399939\n13  chromedriver                        0x000000010881ec7f __gxx_personality_v0 + 421471\n14  chromedriver                        0x000000010881abba __gxx_personality_v0 + 404890\n15  chromedriver                        0x00000001087f6e51 __gxx_personality_v0 + 258097\n16  chromedriver                        0x0000000108836158 __gxx_personality_v0 + 516920\n17  chromedriver                        0x00000001088362e1 __gxx_personality_v0 + 517313\n18  chromedriver                        0x000000010884d6f8 __gxx_personality_v0 + 612568\n19  libsystem_pthread.dylib             0x00007ff80b045514 _pthread_start + 125\n20  libsystem_pthread.dylib             0x00007ff80b04102f thread_start + 15\n",
     "output_type": "error",
     "traceback": [
      "\u001b[0;31m---------------------------------------------------------------------------\u001b[0m",
      "\u001b[0;31mNoSuchElementException\u001b[0m                    Traceback (most recent call last)",
      "\u001b[0;32m/var/folders/h9/gjl0cmmn7wggh47qkzzfvbh80000gn/T/ipykernel_13754/733107767.py\u001b[0m in \u001b[0;36m<module>\u001b[0;34m\u001b[0m\n\u001b[1;32m      9\u001b[0m \u001b[0;34m\u001b[0m\u001b[0m\n\u001b[1;32m     10\u001b[0m \u001b[0;31m# locate email form by_class_name\u001b[0m\u001b[0;34m\u001b[0m\u001b[0;34m\u001b[0m\u001b[0m\n\u001b[0;32m---> 11\u001b[0;31m \u001b[0musername\u001b[0m \u001b[0;34m=\u001b[0m \u001b[0mdriver\u001b[0m\u001b[0;34m.\u001b[0m\u001b[0mfind_element_by_class_name\u001b[0m\u001b[0;34m(\u001b[0m\u001b[0;34m'login-email'\u001b[0m\u001b[0;34m)\u001b[0m\u001b[0;34m\u001b[0m\u001b[0;34m\u001b[0m\u001b[0m\n\u001b[0m\u001b[1;32m     12\u001b[0m \u001b[0;34m\u001b[0m\u001b[0m\n\u001b[1;32m     13\u001b[0m \u001b[0;34m\u001b[0m\u001b[0m\n",
      "\u001b[0;32m/usr/local/lib/python3.9/site-packages/selenium/webdriver/remote/webdriver.py\u001b[0m in \u001b[0;36mfind_element_by_class_name\u001b[0;34m(self, name)\u001b[0m\n\u001b[1;32m    758\u001b[0m             \u001b[0mstacklevel\u001b[0m\u001b[0;34m=\u001b[0m\u001b[0;36m2\u001b[0m\u001b[0;34m,\u001b[0m\u001b[0;34m\u001b[0m\u001b[0;34m\u001b[0m\u001b[0m\n\u001b[1;32m    759\u001b[0m         )\n\u001b[0;32m--> 760\u001b[0;31m         \u001b[0;32mreturn\u001b[0m \u001b[0mself\u001b[0m\u001b[0;34m.\u001b[0m\u001b[0mfind_element\u001b[0m\u001b[0;34m(\u001b[0m\u001b[0mby\u001b[0m\u001b[0;34m=\u001b[0m\u001b[0mBy\u001b[0m\u001b[0;34m.\u001b[0m\u001b[0mCLASS_NAME\u001b[0m\u001b[0;34m,\u001b[0m \u001b[0mvalue\u001b[0m\u001b[0;34m=\u001b[0m\u001b[0mname\u001b[0m\u001b[0;34m)\u001b[0m\u001b[0;34m\u001b[0m\u001b[0;34m\u001b[0m\u001b[0m\n\u001b[0m\u001b[1;32m    761\u001b[0m \u001b[0;34m\u001b[0m\u001b[0m\n\u001b[1;32m    762\u001b[0m     \u001b[0;32mdef\u001b[0m \u001b[0mfind_elements_by_class_name\u001b[0m\u001b[0;34m(\u001b[0m\u001b[0mself\u001b[0m\u001b[0;34m,\u001b[0m \u001b[0mname\u001b[0m\u001b[0;34m)\u001b[0m \u001b[0;34m->\u001b[0m \u001b[0mWebElement\u001b[0m\u001b[0;34m:\u001b[0m\u001b[0;34m\u001b[0m\u001b[0;34m\u001b[0m\u001b[0m\n",
      "\u001b[0;32m/usr/local/lib/python3.9/site-packages/selenium/webdriver/remote/webdriver.py\u001b[0m in \u001b[0;36mfind_element\u001b[0;34m(self, by, value)\u001b[0m\n\u001b[1;32m   1242\u001b[0m             \u001b[0mvalue\u001b[0m \u001b[0;34m=\u001b[0m \u001b[0;34m'[name=\"%s\"]'\u001b[0m \u001b[0;34m%\u001b[0m \u001b[0mvalue\u001b[0m\u001b[0;34m\u001b[0m\u001b[0;34m\u001b[0m\u001b[0m\n\u001b[1;32m   1243\u001b[0m \u001b[0;34m\u001b[0m\u001b[0m\n\u001b[0;32m-> 1244\u001b[0;31m         return self.execute(Command.FIND_ELEMENT, {\n\u001b[0m\u001b[1;32m   1245\u001b[0m             \u001b[0;34m'using'\u001b[0m\u001b[0;34m:\u001b[0m \u001b[0mby\u001b[0m\u001b[0;34m,\u001b[0m\u001b[0;34m\u001b[0m\u001b[0;34m\u001b[0m\u001b[0m\n\u001b[1;32m   1246\u001b[0m             'value': value})['value']\n",
      "\u001b[0;32m/usr/local/lib/python3.9/site-packages/selenium/webdriver/remote/webdriver.py\u001b[0m in \u001b[0;36mexecute\u001b[0;34m(self, driver_command, params)\u001b[0m\n\u001b[1;32m    422\u001b[0m         \u001b[0mresponse\u001b[0m \u001b[0;34m=\u001b[0m \u001b[0mself\u001b[0m\u001b[0;34m.\u001b[0m\u001b[0mcommand_executor\u001b[0m\u001b[0;34m.\u001b[0m\u001b[0mexecute\u001b[0m\u001b[0;34m(\u001b[0m\u001b[0mdriver_command\u001b[0m\u001b[0;34m,\u001b[0m \u001b[0mparams\u001b[0m\u001b[0;34m)\u001b[0m\u001b[0;34m\u001b[0m\u001b[0;34m\u001b[0m\u001b[0m\n\u001b[1;32m    423\u001b[0m         \u001b[0;32mif\u001b[0m \u001b[0mresponse\u001b[0m\u001b[0;34m:\u001b[0m\u001b[0;34m\u001b[0m\u001b[0;34m\u001b[0m\u001b[0m\n\u001b[0;32m--> 424\u001b[0;31m             \u001b[0mself\u001b[0m\u001b[0;34m.\u001b[0m\u001b[0merror_handler\u001b[0m\u001b[0;34m.\u001b[0m\u001b[0mcheck_response\u001b[0m\u001b[0;34m(\u001b[0m\u001b[0mresponse\u001b[0m\u001b[0;34m)\u001b[0m\u001b[0;34m\u001b[0m\u001b[0;34m\u001b[0m\u001b[0m\n\u001b[0m\u001b[1;32m    425\u001b[0m             response['value'] = self._unwrap_value(\n\u001b[1;32m    426\u001b[0m                 response.get('value', None))\n",
      "\u001b[0;32m/usr/local/lib/python3.9/site-packages/selenium/webdriver/remote/errorhandler.py\u001b[0m in \u001b[0;36mcheck_response\u001b[0;34m(self, response)\u001b[0m\n\u001b[1;32m    245\u001b[0m                 \u001b[0malert_text\u001b[0m \u001b[0;34m=\u001b[0m \u001b[0mvalue\u001b[0m\u001b[0;34m[\u001b[0m\u001b[0;34m'alert'\u001b[0m\u001b[0;34m]\u001b[0m\u001b[0;34m.\u001b[0m\u001b[0mget\u001b[0m\u001b[0;34m(\u001b[0m\u001b[0;34m'text'\u001b[0m\u001b[0;34m)\u001b[0m\u001b[0;34m\u001b[0m\u001b[0;34m\u001b[0m\u001b[0m\n\u001b[1;32m    246\u001b[0m             \u001b[0;32mraise\u001b[0m \u001b[0mexception_class\u001b[0m\u001b[0;34m(\u001b[0m\u001b[0mmessage\u001b[0m\u001b[0;34m,\u001b[0m \u001b[0mscreen\u001b[0m\u001b[0;34m,\u001b[0m \u001b[0mstacktrace\u001b[0m\u001b[0;34m,\u001b[0m \u001b[0malert_text\u001b[0m\u001b[0;34m)\u001b[0m  \u001b[0;31m# type: ignore[call-arg]  # mypy is not smart enough here\u001b[0m\u001b[0;34m\u001b[0m\u001b[0;34m\u001b[0m\u001b[0m\n\u001b[0;32m--> 247\u001b[0;31m         \u001b[0;32mraise\u001b[0m \u001b[0mexception_class\u001b[0m\u001b[0;34m(\u001b[0m\u001b[0mmessage\u001b[0m\u001b[0;34m,\u001b[0m \u001b[0mscreen\u001b[0m\u001b[0;34m,\u001b[0m \u001b[0mstacktrace\u001b[0m\u001b[0;34m)\u001b[0m\u001b[0;34m\u001b[0m\u001b[0;34m\u001b[0m\u001b[0m\n\u001b[0m\u001b[1;32m    248\u001b[0m \u001b[0;34m\u001b[0m\u001b[0m\n\u001b[1;32m    249\u001b[0m     \u001b[0;32mdef\u001b[0m \u001b[0m_value_or_default\u001b[0m\u001b[0;34m(\u001b[0m\u001b[0mself\u001b[0m\u001b[0;34m,\u001b[0m \u001b[0mobj\u001b[0m\u001b[0;34m:\u001b[0m \u001b[0mMapping\u001b[0m\u001b[0;34m[\u001b[0m\u001b[0m_KT\u001b[0m\u001b[0;34m,\u001b[0m \u001b[0m_VT\u001b[0m\u001b[0;34m]\u001b[0m\u001b[0;34m,\u001b[0m \u001b[0mkey\u001b[0m\u001b[0;34m:\u001b[0m \u001b[0m_KT\u001b[0m\u001b[0;34m,\u001b[0m \u001b[0mdefault\u001b[0m\u001b[0;34m:\u001b[0m \u001b[0m_VT\u001b[0m\u001b[0;34m)\u001b[0m \u001b[0;34m->\u001b[0m \u001b[0m_VT\u001b[0m\u001b[0;34m:\u001b[0m\u001b[0;34m\u001b[0m\u001b[0;34m\u001b[0m\u001b[0m\n",
      "\u001b[0;31mNoSuchElementException\u001b[0m: Message: no such element: Unable to locate element: {\"method\":\"css selector\",\"selector\":\".login-email\"}\n  (Session info: chrome=96.0.4664.110)\nStacktrace:\n0   chromedriver                        0x0000000108846269 __gxx_personality_v0 + 582729\n1   chromedriver                        0x00000001087d1c33 __gxx_personality_v0 + 106003\n2   chromedriver                        0x000000010838ee28 chromedriver + 171560\n3   chromedriver                        0x00000001083c43d2 chromedriver + 390098\n4   chromedriver                        0x00000001083c4591 chromedriver + 390545\n5   chromedriver                        0x00000001083f66b4 chromedriver + 595636\n6   chromedriver                        0x00000001083e19fd chromedriver + 510461\n7   chromedriver                        0x00000001083f4462 chromedriver + 586850\n8   chromedriver                        0x00000001083e1c23 chromedriver + 511011\n9   chromedriver                        0x00000001083b775e chromedriver + 337758\n10  chromedriver                        0x00000001083b8a95 chromedriver + 342677\n11  chromedriver                        0x00000001088028ab __gxx_personality_v0 + 305803\n12  chromedriver                        0x0000000108819863 __gxx_personality_v0 + 399939\n13  chromedriver                        0x000000010881ec7f __gxx_personality_v0 + 421471\n14  chromedriver                        0x000000010881abba __gxx_personality_v0 + 404890\n15  chromedriver                        0x00000001087f6e51 __gxx_personality_v0 + 258097\n16  chromedriver                        0x0000000108836158 __gxx_personality_v0 + 516920\n17  chromedriver                        0x00000001088362e1 __gxx_personality_v0 + 517313\n18  chromedriver                        0x000000010884d6f8 __gxx_personality_v0 + 612568\n19  libsystem_pthread.dylib             0x00007ff80b045514 _pthread_start + 125\n20  libsystem_pthread.dylib             0x00007ff80b04102f thread_start + 15\n"
     ]
    }
   ],
   "source": [
    "# import web driver\n",
    "from selenium import webdriver\n",
    "\n",
    "# specifies the path to the chromedriver.exe\n",
    "driver = webdriver.Chrome('/usr/local/lib/chromedriver/chromedriver')\n",
    "\n",
    "# driver.get method() will navigate to a page given by the URL address\n",
    "driver.get('https://www.linkedin.com')\n",
    "\n",
    "# locate email form by_class_name\n",
    "username = driver.find_element_by_class_name('login-email')\n",
    "\n",
    "\n",
    "# send_keys() to simulate key strokes\n",
    "username.send_keys('example@gmail.com')\n",
    "\n",
    "# locate password form by_class_name\n",
    "password = driver.find_element_by_class_name('wanderingonwater@gmail.com')\n",
    "\n",
    "# send_keys() to simulate key strokes\n",
    "password.send_keys('15Fairies')\n",
    "\n",
    "# locate submit button by_class_name\n",
    "driver.find_element_by_class_name('login-submit').click()\n"
   ]
  },
  {
   "cell_type": "code",
   "execution_count": null,
   "id": "d3189643",
   "metadata": {},
   "outputs": [],
   "source": []
  }
 ],
 "metadata": {
  "kernelspec": {
   "display_name": "Python 3 (ipykernel)",
   "language": "python",
   "name": "python3"
  },
  "language_info": {
   "codemirror_mode": {
    "name": "ipython",
    "version": 3
   },
   "file_extension": ".py",
   "mimetype": "text/x-python",
   "name": "python",
   "nbconvert_exporter": "python",
   "pygments_lexer": "ipython3",
   "version": "3.9.8"
  }
 },
 "nbformat": 4,
 "nbformat_minor": 5
}
