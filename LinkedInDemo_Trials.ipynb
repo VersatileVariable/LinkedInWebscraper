{
 "cells": [
  {
   "cell_type": "markdown",
   "id": "cbf98e7e",
   "metadata": {},
   "source": [
    "LinkedIn Demo"
   ]
  },
  {
   "cell_type": "code",
   "execution_count": 3,
   "id": "ee81ef54",
   "metadata": {},
   "outputs": [],
   "source": [
    "#most code by MariyaSha, https://github.com/MariyaSha\n",
    "#imports\n",
    "from selenium.webdriver.chrome.service import Service\n",
    "from selenium import webdriver\n",
    "from selenium.webdriver.common.keys import Keys\n",
    "from selenium.webdriver.support import expected_conditions as EC\n",
    "from selenium.webdriver.common.by import By\n",
    "from selenium.webdriver.support.wait import WebDriverWait\n",
    "import time\n",
    "\n",
    "import csv\n",
    "import getpass\n",
    "from selenium.common.exceptions import NoSuchElementException"
   ]
  },
  {
   "cell_type": "code",
   "execution_count": 4,
   "id": "ac742dbc",
   "metadata": {
    "scrolled": true
   },
   "outputs": [
    {
     "ename": "SessionNotCreatedException",
     "evalue": "Message: session not created: This version of ChromeDriver only supports Chrome version 96\nCurrent browser version is 98.0.4758.80 with binary path /Applications/Google Chrome.app/Contents/MacOS/Google Chrome\nStacktrace:\n0   chromedriver                        0x0000000100b33269 __gxx_personality_v0 + 582729\n1   chromedriver                        0x0000000100abec33 __gxx_personality_v0 + 106003\n2   chromedriver                        0x000000010067be28 chromedriver + 171560\n3   chromedriver                        0x00000001006a2433 chromedriver + 328755\n4   chromedriver                        0x000000010069dff6 chromedriver + 311286\n5   chromedriver                        0x000000010069a6c6 chromedriver + 296646\n6   chromedriver                        0x00000001006d49c3 chromedriver + 534979\n7   chromedriver                        0x00000001006ce723 chromedriver + 509731\n8   chromedriver                        0x00000001006a475e chromedriver + 337758\n9   chromedriver                        0x00000001006a5a95 chromedriver + 342677\n10  chromedriver                        0x0000000100aef8ab __gxx_personality_v0 + 305803\n11  chromedriver                        0x0000000100b06863 __gxx_personality_v0 + 399939\n12  chromedriver                        0x0000000100b0bc7f __gxx_personality_v0 + 421471\n13  chromedriver                        0x0000000100b07bba __gxx_personality_v0 + 404890\n14  chromedriver                        0x0000000100ae3e51 __gxx_personality_v0 + 258097\n15  chromedriver                        0x0000000100b23158 __gxx_personality_v0 + 516920\n16  chromedriver                        0x0000000100b232e1 __gxx_personality_v0 + 517313\n17  chromedriver                        0x0000000100b3a6f8 __gxx_personality_v0 + 612568\n18  libsystem_pthread.dylib             0x00007ff806531514 _pthread_start + 125\n19  libsystem_pthread.dylib             0x00007ff80652d02f thread_start + 15\n",
     "output_type": "error",
     "traceback": [
      "\u001b[0;31m---------------------------------------------------------------------------\u001b[0m",
      "\u001b[0;31mSessionNotCreatedException\u001b[0m                Traceback (most recent call last)",
      "\u001b[0;32m/var/folders/h9/gjl0cmmn7wggh47qkzzfvbh80000gn/T/ipykernel_7406/436296845.py\u001b[0m in \u001b[0;36m<module>\u001b[0;34m\u001b[0m\n\u001b[1;32m      4\u001b[0m \u001b[0;34m\u001b[0m\u001b[0m\n\u001b[1;32m      5\u001b[0m \u001b[0mbrowser_driver\u001b[0m \u001b[0;34m=\u001b[0m \u001b[0mService\u001b[0m\u001b[0;34m(\u001b[0m\u001b[0;34m'/usr/local/lib/chromedriver/chromedriver'\u001b[0m\u001b[0;34m)\u001b[0m\u001b[0;34m\u001b[0m\u001b[0;34m\u001b[0m\u001b[0m\n\u001b[0;32m----> 6\u001b[0;31m \u001b[0mpage_to_scrape\u001b[0m \u001b[0;34m=\u001b[0m \u001b[0mwebdriver\u001b[0m\u001b[0;34m.\u001b[0m\u001b[0mChrome\u001b[0m\u001b[0;34m(\u001b[0m\u001b[0mservice\u001b[0m\u001b[0;34m=\u001b[0m\u001b[0mbrowser_driver\u001b[0m\u001b[0;34m)\u001b[0m\u001b[0;34m\u001b[0m\u001b[0;34m\u001b[0m\u001b[0m\n\u001b[0m\u001b[1;32m      7\u001b[0m \u001b[0;34m\u001b[0m\u001b[0m\n\u001b[1;32m      8\u001b[0m \u001b[0;31m#open page\u001b[0m\u001b[0;34m\u001b[0m\u001b[0;34m\u001b[0m\u001b[0m\n",
      "\u001b[0;32m/usr/local/lib/python3.9/site-packages/selenium/webdriver/chrome/webdriver.py\u001b[0m in \u001b[0;36m__init__\u001b[0;34m(self, executable_path, port, options, service_args, desired_capabilities, service_log_path, chrome_options, service, keep_alive)\u001b[0m\n\u001b[1;32m     68\u001b[0m             \u001b[0mservice\u001b[0m \u001b[0;34m=\u001b[0m \u001b[0mService\u001b[0m\u001b[0;34m(\u001b[0m\u001b[0mexecutable_path\u001b[0m\u001b[0;34m,\u001b[0m \u001b[0mport\u001b[0m\u001b[0;34m,\u001b[0m \u001b[0mservice_args\u001b[0m\u001b[0;34m,\u001b[0m \u001b[0mservice_log_path\u001b[0m\u001b[0;34m)\u001b[0m\u001b[0;34m\u001b[0m\u001b[0;34m\u001b[0m\u001b[0m\n\u001b[1;32m     69\u001b[0m \u001b[0;34m\u001b[0m\u001b[0m\n\u001b[0;32m---> 70\u001b[0;31m         super(WebDriver, self).__init__(DesiredCapabilities.CHROME['browserName'], \"goog\",\n\u001b[0m\u001b[1;32m     71\u001b[0m                                         \u001b[0mport\u001b[0m\u001b[0;34m,\u001b[0m \u001b[0moptions\u001b[0m\u001b[0;34m,\u001b[0m\u001b[0;34m\u001b[0m\u001b[0;34m\u001b[0m\u001b[0m\n\u001b[1;32m     72\u001b[0m                                         \u001b[0mservice_args\u001b[0m\u001b[0;34m,\u001b[0m \u001b[0mdesired_capabilities\u001b[0m\u001b[0;34m,\u001b[0m\u001b[0;34m\u001b[0m\u001b[0;34m\u001b[0m\u001b[0m\n",
      "\u001b[0;32m/usr/local/lib/python3.9/site-packages/selenium/webdriver/chromium/webdriver.py\u001b[0m in \u001b[0;36m__init__\u001b[0;34m(self, browser_name, vendor_prefix, port, options, service_args, desired_capabilities, service_log_path, service, keep_alive)\u001b[0m\n\u001b[1;32m     91\u001b[0m \u001b[0;34m\u001b[0m\u001b[0m\n\u001b[1;32m     92\u001b[0m         \u001b[0;32mtry\u001b[0m\u001b[0;34m:\u001b[0m\u001b[0;34m\u001b[0m\u001b[0;34m\u001b[0m\u001b[0m\n\u001b[0;32m---> 93\u001b[0;31m             RemoteWebDriver.__init__(\n\u001b[0m\u001b[1;32m     94\u001b[0m                 \u001b[0mself\u001b[0m\u001b[0;34m,\u001b[0m\u001b[0;34m\u001b[0m\u001b[0;34m\u001b[0m\u001b[0m\n\u001b[1;32m     95\u001b[0m                 command_executor=ChromiumRemoteConnection(\n",
      "\u001b[0;32m/usr/local/lib/python3.9/site-packages/selenium/webdriver/remote/webdriver.py\u001b[0m in \u001b[0;36m__init__\u001b[0;34m(self, command_executor, desired_capabilities, browser_profile, proxy, keep_alive, file_detector, options)\u001b[0m\n\u001b[1;32m    266\u001b[0m         \u001b[0mself\u001b[0m\u001b[0;34m.\u001b[0m\u001b[0mfile_detector\u001b[0m \u001b[0;34m=\u001b[0m \u001b[0mfile_detector\u001b[0m \u001b[0;32mor\u001b[0m \u001b[0mLocalFileDetector\u001b[0m\u001b[0;34m(\u001b[0m\u001b[0;34m)\u001b[0m\u001b[0;34m\u001b[0m\u001b[0;34m\u001b[0m\u001b[0m\n\u001b[1;32m    267\u001b[0m         \u001b[0mself\u001b[0m\u001b[0;34m.\u001b[0m\u001b[0mstart_client\u001b[0m\u001b[0;34m(\u001b[0m\u001b[0;34m)\u001b[0m\u001b[0;34m\u001b[0m\u001b[0;34m\u001b[0m\u001b[0m\n\u001b[0;32m--> 268\u001b[0;31m         \u001b[0mself\u001b[0m\u001b[0;34m.\u001b[0m\u001b[0mstart_session\u001b[0m\u001b[0;34m(\u001b[0m\u001b[0mcapabilities\u001b[0m\u001b[0;34m,\u001b[0m \u001b[0mbrowser_profile\u001b[0m\u001b[0;34m)\u001b[0m\u001b[0;34m\u001b[0m\u001b[0;34m\u001b[0m\u001b[0m\n\u001b[0m\u001b[1;32m    269\u001b[0m \u001b[0;34m\u001b[0m\u001b[0m\n\u001b[1;32m    270\u001b[0m     \u001b[0;32mdef\u001b[0m \u001b[0m__repr__\u001b[0m\u001b[0;34m(\u001b[0m\u001b[0mself\u001b[0m\u001b[0;34m)\u001b[0m\u001b[0;34m:\u001b[0m\u001b[0;34m\u001b[0m\u001b[0;34m\u001b[0m\u001b[0m\n",
      "\u001b[0;32m/usr/local/lib/python3.9/site-packages/selenium/webdriver/remote/webdriver.py\u001b[0m in \u001b[0;36mstart_session\u001b[0;34m(self, capabilities, browser_profile)\u001b[0m\n\u001b[1;32m    357\u001b[0m         parameters = {\"capabilities\": w3c_caps,\n\u001b[1;32m    358\u001b[0m                       \"desiredCapabilities\": capabilities}\n\u001b[0;32m--> 359\u001b[0;31m         \u001b[0mresponse\u001b[0m \u001b[0;34m=\u001b[0m \u001b[0mself\u001b[0m\u001b[0;34m.\u001b[0m\u001b[0mexecute\u001b[0m\u001b[0;34m(\u001b[0m\u001b[0mCommand\u001b[0m\u001b[0;34m.\u001b[0m\u001b[0mNEW_SESSION\u001b[0m\u001b[0;34m,\u001b[0m \u001b[0mparameters\u001b[0m\u001b[0;34m)\u001b[0m\u001b[0;34m\u001b[0m\u001b[0;34m\u001b[0m\u001b[0m\n\u001b[0m\u001b[1;32m    360\u001b[0m         \u001b[0;32mif\u001b[0m \u001b[0;34m'sessionId'\u001b[0m \u001b[0;32mnot\u001b[0m \u001b[0;32min\u001b[0m \u001b[0mresponse\u001b[0m\u001b[0;34m:\u001b[0m\u001b[0;34m\u001b[0m\u001b[0;34m\u001b[0m\u001b[0m\n\u001b[1;32m    361\u001b[0m             \u001b[0mresponse\u001b[0m \u001b[0;34m=\u001b[0m \u001b[0mresponse\u001b[0m\u001b[0;34m[\u001b[0m\u001b[0;34m'value'\u001b[0m\u001b[0;34m]\u001b[0m\u001b[0;34m\u001b[0m\u001b[0;34m\u001b[0m\u001b[0m\n",
      "\u001b[0;32m/usr/local/lib/python3.9/site-packages/selenium/webdriver/remote/webdriver.py\u001b[0m in \u001b[0;36mexecute\u001b[0;34m(self, driver_command, params)\u001b[0m\n\u001b[1;32m    422\u001b[0m         \u001b[0mresponse\u001b[0m \u001b[0;34m=\u001b[0m \u001b[0mself\u001b[0m\u001b[0;34m.\u001b[0m\u001b[0mcommand_executor\u001b[0m\u001b[0;34m.\u001b[0m\u001b[0mexecute\u001b[0m\u001b[0;34m(\u001b[0m\u001b[0mdriver_command\u001b[0m\u001b[0;34m,\u001b[0m \u001b[0mparams\u001b[0m\u001b[0;34m)\u001b[0m\u001b[0;34m\u001b[0m\u001b[0;34m\u001b[0m\u001b[0m\n\u001b[1;32m    423\u001b[0m         \u001b[0;32mif\u001b[0m \u001b[0mresponse\u001b[0m\u001b[0;34m:\u001b[0m\u001b[0;34m\u001b[0m\u001b[0;34m\u001b[0m\u001b[0m\n\u001b[0;32m--> 424\u001b[0;31m             \u001b[0mself\u001b[0m\u001b[0;34m.\u001b[0m\u001b[0merror_handler\u001b[0m\u001b[0;34m.\u001b[0m\u001b[0mcheck_response\u001b[0m\u001b[0;34m(\u001b[0m\u001b[0mresponse\u001b[0m\u001b[0;34m)\u001b[0m\u001b[0;34m\u001b[0m\u001b[0;34m\u001b[0m\u001b[0m\n\u001b[0m\u001b[1;32m    425\u001b[0m             response['value'] = self._unwrap_value(\n\u001b[1;32m    426\u001b[0m                 response.get('value', None))\n",
      "\u001b[0;32m/usr/local/lib/python3.9/site-packages/selenium/webdriver/remote/errorhandler.py\u001b[0m in \u001b[0;36mcheck_response\u001b[0;34m(self, response)\u001b[0m\n\u001b[1;32m    245\u001b[0m                 \u001b[0malert_text\u001b[0m \u001b[0;34m=\u001b[0m \u001b[0mvalue\u001b[0m\u001b[0;34m[\u001b[0m\u001b[0;34m'alert'\u001b[0m\u001b[0;34m]\u001b[0m\u001b[0;34m.\u001b[0m\u001b[0mget\u001b[0m\u001b[0;34m(\u001b[0m\u001b[0;34m'text'\u001b[0m\u001b[0;34m)\u001b[0m\u001b[0;34m\u001b[0m\u001b[0;34m\u001b[0m\u001b[0m\n\u001b[1;32m    246\u001b[0m             \u001b[0;32mraise\u001b[0m \u001b[0mexception_class\u001b[0m\u001b[0;34m(\u001b[0m\u001b[0mmessage\u001b[0m\u001b[0;34m,\u001b[0m \u001b[0mscreen\u001b[0m\u001b[0;34m,\u001b[0m \u001b[0mstacktrace\u001b[0m\u001b[0;34m,\u001b[0m \u001b[0malert_text\u001b[0m\u001b[0;34m)\u001b[0m  \u001b[0;31m# type: ignore[call-arg]  # mypy is not smart enough here\u001b[0m\u001b[0;34m\u001b[0m\u001b[0;34m\u001b[0m\u001b[0m\n\u001b[0;32m--> 247\u001b[0;31m         \u001b[0;32mraise\u001b[0m \u001b[0mexception_class\u001b[0m\u001b[0;34m(\u001b[0m\u001b[0mmessage\u001b[0m\u001b[0;34m,\u001b[0m \u001b[0mscreen\u001b[0m\u001b[0;34m,\u001b[0m \u001b[0mstacktrace\u001b[0m\u001b[0;34m)\u001b[0m\u001b[0;34m\u001b[0m\u001b[0;34m\u001b[0m\u001b[0m\n\u001b[0m\u001b[1;32m    248\u001b[0m \u001b[0;34m\u001b[0m\u001b[0m\n\u001b[1;32m    249\u001b[0m     \u001b[0;32mdef\u001b[0m \u001b[0m_value_or_default\u001b[0m\u001b[0;34m(\u001b[0m\u001b[0mself\u001b[0m\u001b[0;34m,\u001b[0m \u001b[0mobj\u001b[0m\u001b[0;34m:\u001b[0m \u001b[0mMapping\u001b[0m\u001b[0;34m[\u001b[0m\u001b[0m_KT\u001b[0m\u001b[0;34m,\u001b[0m \u001b[0m_VT\u001b[0m\u001b[0;34m]\u001b[0m\u001b[0;34m,\u001b[0m \u001b[0mkey\u001b[0m\u001b[0;34m:\u001b[0m \u001b[0m_KT\u001b[0m\u001b[0;34m,\u001b[0m \u001b[0mdefault\u001b[0m\u001b[0;34m:\u001b[0m \u001b[0m_VT\u001b[0m\u001b[0;34m)\u001b[0m \u001b[0;34m->\u001b[0m \u001b[0m_VT\u001b[0m\u001b[0;34m:\u001b[0m\u001b[0;34m\u001b[0m\u001b[0;34m\u001b[0m\u001b[0m\n",
      "\u001b[0;31mSessionNotCreatedException\u001b[0m: Message: session not created: This version of ChromeDriver only supports Chrome version 96\nCurrent browser version is 98.0.4758.80 with binary path /Applications/Google Chrome.app/Contents/MacOS/Google Chrome\nStacktrace:\n0   chromedriver                        0x0000000100b33269 __gxx_personality_v0 + 582729\n1   chromedriver                        0x0000000100abec33 __gxx_personality_v0 + 106003\n2   chromedriver                        0x000000010067be28 chromedriver + 171560\n3   chromedriver                        0x00000001006a2433 chromedriver + 328755\n4   chromedriver                        0x000000010069dff6 chromedriver + 311286\n5   chromedriver                        0x000000010069a6c6 chromedriver + 296646\n6   chromedriver                        0x00000001006d49c3 chromedriver + 534979\n7   chromedriver                        0x00000001006ce723 chromedriver + 509731\n8   chromedriver                        0x00000001006a475e chromedriver + 337758\n9   chromedriver                        0x00000001006a5a95 chromedriver + 342677\n10  chromedriver                        0x0000000100aef8ab __gxx_personality_v0 + 305803\n11  chromedriver                        0x0000000100b06863 __gxx_personality_v0 + 399939\n12  chromedriver                        0x0000000100b0bc7f __gxx_personality_v0 + 421471\n13  chromedriver                        0x0000000100b07bba __gxx_personality_v0 + 404890\n14  chromedriver                        0x0000000100ae3e51 __gxx_personality_v0 + 258097\n15  chromedriver                        0x0000000100b23158 __gxx_personality_v0 + 516920\n16  chromedriver                        0x0000000100b232e1 __gxx_personality_v0 + 517313\n17  chromedriver                        0x0000000100b3a6f8 __gxx_personality_v0 + 612568\n18  libsystem_pthread.dylib             0x00007ff806531514 _pthread_start + 125\n19  libsystem_pthread.dylib             0x00007ff80652d02f thread_start + 15\n"
     ]
    }
   ],
   "source": [
    "#specify the path to chromedriver.exe (download and save on your computer)\n",
    "#driver = webdriver.Chrome('/usr/local/lib/chromedriver/chromedriver')\n",
    "\n",
    "\n",
    "browser_driver = Service('/usr/local/lib/chromedriver/chromedriver')\n",
    "page_to_scrape = webdriver.Chrome(service=browser_driver)\n",
    "\n",
    "#open page\n",
    "page_to_scrape.get(\"https://www.linkedin.com\")\n",
    "\n",
    "#signing in\n",
    "page_to_scrape.find_element(By.LINK_TEXT, \"Sign in\").click()\n",
    "\n",
    "username = page_to_scrape.find_element(By.ID, \"username\")\n",
    "password = page_to_scrape.find_element(By.ID, \"password\")\n",
    "username.send_keys(\"wanderingonwater@gmail.com\")\n",
    "password.send_keys(\"15fairiesFly\")\n",
    "\n",
    "page_to_scrape.find_element(By.CSS_SELECTOR, \".btn__primary--large\").click()\n",
    "\n",
    "\n"
   ]
  },
  {
   "cell_type": "code",
   "execution_count": 92,
   "id": "a06ab3c3",
   "metadata": {
    "scrolled": true
   },
   "outputs": [
    {
     "name": "stdout",
     "output_type": "stream",
     "text": [
      "['https://de.linkedin.com/in/pvu51', 'https://de.linkedin.com/in/dag-kregenow-12378887', 'https://de.linkedin.com/in/ausastuttgart', 'https://de.linkedin.com/in/nicholas-patterson-22794b96', 'https://de.linkedin.com/in/mkoepplinger', 'https://de.linkedin.com/in/deborahschwisow', 'https://de.linkedin.com/in/neven-petkovic-aaa09011b', 'https://de.linkedin.com/in/ula-jacobs-5237894b', 'https://de.linkedin.com/in/jason-ballinger-8965b850', 'https://de.linkedin.com/in/robert-rob-allman-28913a24']\n"
     ]
    }
   ],
   "source": [
    "#navigating to employees and setting parameters\n",
    "#page_to_scrape.get(\"https://www.linkedin.com/search/results/people/?currentCompany=%5B%227510%22%2C%224425%22%2C%2211175823%22%2C%2264990831%22%2C%221223%22%5D&geoUrn=%5B%22102473731%22%5D&origin=FACETED_SEARCH&sid=GCI\")\n",
    "\n",
    "#specify the path to chromedriver.exe (download and save on your computer)\n",
    "#driver = webdriver.Chrome('/usr/local/lib/chromedriver/chromedriver')\n",
    "\n",
    "\n",
    "browser_driver = Service('/usr/local/lib/chromedriver/chromedriver')\n",
    "page_to_scrape = webdriver.Chrome(service=browser_driver)\n",
    "\n",
    "#open page\n",
    "page_to_scrape.get(\"https://www.linkedin.com\")\n",
    "\n",
    "#signing in\n",
    "page_to_scrape.find_element(By.LINK_TEXT, \"Sign in\").click()\n",
    "\n",
    "username = page_to_scrape.find_element(By.ID, \"username\")\n",
    "password = page_to_scrape.find_element(By.ID, \"password\")\n",
    "username.send_keys(\"wanderingonwater@gmail.com\")\n",
    "password.send_keys(\"get_password\")\n",
    "\n",
    "page_to_scrape.find_element(By.CSS_SELECTOR, \".btn__primary--large\").click()\n",
    "\n",
    "\n",
    "\n",
    "page_to_scrape.get(\"https://www.google.com/\")\n",
    "\n",
    "page_to_scrape.find_element(By.ID, \"L2AGLb\").click()\n",
    "\n",
    "\n",
    "page_to_scrape.get(\"https://www.google.com/search?q=site%3Alinkedin.com%2Fin%2F+AND+%22US+Army%22+AND+%22Stuttgart%22&oq=site%3Alinkedin.com%2Fin%2F+AND+%22US+Army%22+AND+%22Stuttgart%22&aqs=chrome.0.69i59j69i58.530j0j9&sourceid=chrome&ie=UTF-8\")\n",
    "\n",
    "#\"site:linkedin.com/in/ AND \"US Army\" AND \"Stuttgart\"\"\n",
    "time.sleep(0.5)\n",
    "\n",
    "#linkedin_urls_unfiltered = page_to_scrape.find_elements(By.CLASS_NAME,'yuRUbf')\n",
    "#linkedin_urls_unfiltered = [url.text for url in linkedin_urls_unfiltered]\n",
    "\n",
    "\n",
    "elems = page_to_scrape.find_elements(By.CSS_SELECTOR,\".yuRUbf [href]\")\n",
    "links = [elem.get_attribute('href') for elem in elems]\n",
    "\n",
    "for link in links:\n",
    "    if link.startswith(\"https://translate.google.com\"):\n",
    "        links.remove(link)\n",
    "print(links)\n",
    "\n",
    "\n",
    "#print the links to the profiles\n",
    "\n",
    "\n",
    "\n",
    "file = open(\"scrape_demo.csv\", \"w\")\n",
    "writer = csv.writer(file)\n",
    "\n",
    "\n",
    "writer.writerow([\"Links\",links])\n",
    "\n",
    "\n",
    "\n",
    "\n",
    "#fun part, scraping\n",
    "#names = page_to_scrape.find_elements(By.CSS_SELECTOR, \"reusable-search__result-container:nth-child(1) .entity-result__primary-subtitle\")\n",
    "#positions = page_to_scrape.find_elements(By.CLASS_NAME, \"author\")\n",
    "\n",
    "\n",
    "#while True:\n",
    "#    names = page_to_scrape.find_elements(By.CLASS_NAME, \"text\")\n",
    "#    positions = page_to_scrape.find_elements(By.CLASS_NAME, \"author\")\n",
    "#    for name, position in zip(names, positions):\n",
    "#        print(name.text + \" - \" + position.text)\n",
    "#        writer.writerow([name.text, position.text])\n",
    "#    try:\n",
    "#        page_to_scrape.find_element(By.PARTIAL_LINK_TEXT, \"Next\").click()\n",
    "#    except NoSuchElementException:\n",
    "#        break\n",
    "#file.close()\n",
    "\n",
    "\n",
    "\n",
    "\n",
    "#elems = page_to_scrape.find_elements(By.CSS_SELECTOR,\".yuRUbf [href]\")\n",
    "#links = [elem.get_attribute('href') for elem in elems]\n",
    "#quotes = page_to_scrape.find_elements(By.CLASS_NAME, \"text\")\n",
    "\n",
    "#names=[]\n",
    "for link in links:\n",
    "    page_to_scrape.get(link)\n",
    "    time.sleep(0.5)\n",
    "    #name = (page_to_scrape.find_elements(By.CSS_SELECTOR,'.text-heading-xlarge').text)\n",
    "    #print(name)\n",
    "    #names.append(name)\n",
    "    #name = page_to_scrape.find_elements(By.CSS_SELECTOR,'.text-heading-xlarge')\n",
    "    #names.append(name)\n",
    "#print(names)\n",
    "\n",
    "    \n"
   ]
  },
  {
   "cell_type": "code",
   "execution_count": 51,
   "id": "2d258391",
   "metadata": {
    "scrolled": true
   },
   "outputs": [
    {
     "name": "stdout",
     "output_type": "stream",
     "text": [
      "https://de.linkedin.com/in/pvu51\n",
      "https://de.linkedin.com › pvu51\n",
      "https://de.linkedin.com › ausastuttgart\n",
      "https://de.linkedin.com › mkoepplinger\n",
      "['https://de.linkedin.com › pvu51', 'https://de.linkedin.com › ausastuttgart', 'https://de.linkedin.com › mkoepplinger']\n",
      "['https://de.linkedin.com/in/pvu51', 'https://de.linkedin.com/in/ausastuttgart', 'https://de.linkedin.com/in/mkoepplinger']\n"
     ]
    }
   ],
   "source": [
    "#trials\n",
    "\n",
    "str_trial = 'https://de.linkedin.com › pvu51'\n",
    "str_trial = str_trial.replace(\" › \",\"/in/\")\n",
    "\n",
    "print(str_trial)\n",
    "\n",
    "list_trial = ['https://de.linkedin.com › pvu51','https://de.linkedin.com › ausastuttgart','https://de.linkedin.com › mkoepplinger']\n",
    "list_result =[]\n",
    "\n",
    "for trial in list_trial:\n",
    "    result = trial.replace(\" › \",\"/in/\")\n",
    "    list_result.append(result)\n",
    "    print(trial)\n",
    "    \n",
    "print(list_trial)\n",
    "print(list_result)\n",
    "\n",
    "\n",
    "\n",
    "\n",
    "for url in linkedin_urls_unfiltered:\n",
    "    result = url.replace(\" › \",\"/in/\")\n",
    "    linkedin_urls.append(result)\n",
    "    \n",
    "    #linkedin_names = page_to_scrape.find_elements(By.CLASS_NAME,'LC20lb MBeuO DKV0Md')\n",
    "#linkedin_names = [name.text for name in linkedin_names]\n",
    "#time.sleep(0.5)\n",
    "#If done by this method sometimes the text is cut off and I cannot get the full link\n",
    "\n",
    "\n",
    "#for url in linkedin_urls_unfiltered:\n",
    "#    url = url.replace(\" › \", \"/in/\") \n",
    "#    if url == \"Translate this page\" or url == \"\":\n",
    "#        linkedin_urls_unfiltered.remove(url)\n",
    "     "
   ]
  },
  {
   "cell_type": "code",
   "execution_count": 8,
   "id": "534ef5df",
   "metadata": {},
   "outputs": [],
   "source": [
    "#most code by MariyaSha, https://github.com/MariyaSha\n",
    "#imports\n",
    "from selenium.webdriver.chrome.service import Service\n",
    "from selenium import webdriver\n",
    "from selenium.webdriver.common.keys import Keys\n",
    "from selenium.webdriver.support import expected_conditions as EC\n",
    "from selenium.webdriver.common.by import By\n",
    "from selenium.webdriver.support.wait import WebDriverWait\n",
    "import time\n",
    "\n",
    "import csv\n",
    "import getpass\n",
    "from selenium.common.exceptions import NoSuchElementException\n",
    "\n",
    "browser_driver = Service('/usr/local/lib/chromedriver/chromedriver')\n",
    "page_to_scrape = webdriver.Chrome(service=browser_driver)\n",
    "\n",
    "#open page\n",
    "page_to_scrape.get(\"https://www.linkedin.com\")"
   ]
  },
  {
   "cell_type": "code",
   "execution_count": 17,
   "id": "e72c79a5",
   "metadata": {},
   "outputs": [
    {
     "name": "stdout",
     "output_type": "stream",
     "text": [
      "[]\n",
      "0\n"
     ]
    },
    {
     "ename": "NoSuchElementException",
     "evalue": "Message: no such element: Unable to locate element: {\"method\":\"css selector\",\"selector\":\"[id=\"pnnext\"]\"}\n  (Session info: chrome=98.0.4758.80)\nStacktrace:\n0   chromedriver                        0x0000000108bb93c9 chromedriver + 5018569\n1   chromedriver                        0x0000000108b44333 chromedriver + 4539187\n2   chromedriver                        0x0000000108719a88 chromedriver + 170632\n3   chromedriver                        0x000000010874e332 chromedriver + 385842\n4   chromedriver                        0x000000010874e4f1 chromedriver + 386289\n5   chromedriver                        0x00000001087808b4 chromedriver + 592052\n6   chromedriver                        0x000000010876b80d chromedriver + 505869\n7   chromedriver                        0x000000010877e604 chromedriver + 583172\n8   chromedriver                        0x000000010876b6d3 chromedriver + 505555\n9   chromedriver                        0x000000010874195e chromedriver + 334174\n10  chromedriver                        0x0000000108742935 chromedriver + 338229\n11  chromedriver                        0x0000000108b751ee chromedriver + 4739566\n12  chromedriver                        0x0000000108b8ef51 chromedriver + 4845393\n13  chromedriver                        0x0000000108b94928 chromedriver + 4868392\n14  chromedriver                        0x0000000108b8fa7a chromedriver + 4848250\n15  chromedriver                        0x0000000108b69c31 chromedriver + 4693041\n16  chromedriver                        0x0000000108baa978 chromedriver + 4958584\n17  chromedriver                        0x0000000108baab01 chromedriver + 4958977\n18  chromedriver                        0x0000000108bc0795 chromedriver + 5048213\n19  libsystem_pthread.dylib             0x00007ff819a63514 _pthread_start + 125\n20  libsystem_pthread.dylib             0x00007ff819a5f02f thread_start + 15\n",
     "output_type": "error",
     "traceback": [
      "\u001b[0;31m---------------------------------------------------------------------------\u001b[0m",
      "\u001b[0;31mNoSuchElementException\u001b[0m                    Traceback (most recent call last)",
      "\u001b[0;32m/var/folders/h9/gjl0cmmn7wggh47qkzzfvbh80000gn/T/ipykernel_45242/1146028700.py\u001b[0m in \u001b[0;36m<module>\u001b[0;34m\u001b[0m\n\u001b[1;32m     31\u001b[0m \u001b[0;34m\u001b[0m\u001b[0m\n\u001b[1;32m     32\u001b[0m \u001b[0;32mwhile\u001b[0m \u001b[0mi\u001b[0m\u001b[0;34m<\u001b[0m\u001b[0;36m5\u001b[0m\u001b[0;34m:\u001b[0m\u001b[0;34m\u001b[0m\u001b[0;34m\u001b[0m\u001b[0m\n\u001b[0;32m---> 33\u001b[0;31m     \u001b[0mpage_to_scrape\u001b[0m\u001b[0;34m.\u001b[0m\u001b[0mfind_element\u001b[0m\u001b[0;34m(\u001b[0m\u001b[0mBy\u001b[0m\u001b[0;34m.\u001b[0m\u001b[0mID\u001b[0m\u001b[0;34m,\u001b[0m \u001b[0;34m\"pnnext\"\u001b[0m\u001b[0;34m)\u001b[0m\u001b[0;34m.\u001b[0m\u001b[0mclick\u001b[0m\u001b[0;34m(\u001b[0m\u001b[0;34m)\u001b[0m\u001b[0;34m\u001b[0m\u001b[0;34m\u001b[0m\u001b[0m\n\u001b[0m\u001b[1;32m     34\u001b[0m     \u001b[0mtime\u001b[0m\u001b[0;34m.\u001b[0m\u001b[0msleep\u001b[0m\u001b[0;34m(\u001b[0m\u001b[0;36m0.5\u001b[0m\u001b[0;34m)\u001b[0m\u001b[0;34m\u001b[0m\u001b[0;34m\u001b[0m\u001b[0m\n\u001b[1;32m     35\u001b[0m     \u001b[0melems\u001b[0m \u001b[0;34m=\u001b[0m \u001b[0mpage_to_scrape\u001b[0m\u001b[0;34m.\u001b[0m\u001b[0mfind_elements\u001b[0m\u001b[0;34m(\u001b[0m\u001b[0mBy\u001b[0m\u001b[0;34m.\u001b[0m\u001b[0mCSS_SELECTOR\u001b[0m\u001b[0;34m,\u001b[0m\u001b[0;34m\".yuRUbf [href]\"\u001b[0m\u001b[0;34m)\u001b[0m\u001b[0;34m\u001b[0m\u001b[0;34m\u001b[0m\u001b[0m\n",
      "\u001b[0;32m/usr/local/lib/python3.9/site-packages/selenium/webdriver/remote/webdriver.py\u001b[0m in \u001b[0;36mfind_element\u001b[0;34m(self, by, value)\u001b[0m\n\u001b[1;32m   1242\u001b[0m             \u001b[0mvalue\u001b[0m \u001b[0;34m=\u001b[0m \u001b[0;34m'[name=\"%s\"]'\u001b[0m \u001b[0;34m%\u001b[0m \u001b[0mvalue\u001b[0m\u001b[0;34m\u001b[0m\u001b[0;34m\u001b[0m\u001b[0m\n\u001b[1;32m   1243\u001b[0m \u001b[0;34m\u001b[0m\u001b[0m\n\u001b[0;32m-> 1244\u001b[0;31m         return self.execute(Command.FIND_ELEMENT, {\n\u001b[0m\u001b[1;32m   1245\u001b[0m             \u001b[0;34m'using'\u001b[0m\u001b[0;34m:\u001b[0m \u001b[0mby\u001b[0m\u001b[0;34m,\u001b[0m\u001b[0;34m\u001b[0m\u001b[0;34m\u001b[0m\u001b[0m\n\u001b[1;32m   1246\u001b[0m             'value': value})['value']\n",
      "\u001b[0;32m/usr/local/lib/python3.9/site-packages/selenium/webdriver/remote/webdriver.py\u001b[0m in \u001b[0;36mexecute\u001b[0;34m(self, driver_command, params)\u001b[0m\n\u001b[1;32m    422\u001b[0m         \u001b[0mresponse\u001b[0m \u001b[0;34m=\u001b[0m \u001b[0mself\u001b[0m\u001b[0;34m.\u001b[0m\u001b[0mcommand_executor\u001b[0m\u001b[0;34m.\u001b[0m\u001b[0mexecute\u001b[0m\u001b[0;34m(\u001b[0m\u001b[0mdriver_command\u001b[0m\u001b[0;34m,\u001b[0m \u001b[0mparams\u001b[0m\u001b[0;34m)\u001b[0m\u001b[0;34m\u001b[0m\u001b[0;34m\u001b[0m\u001b[0m\n\u001b[1;32m    423\u001b[0m         \u001b[0;32mif\u001b[0m \u001b[0mresponse\u001b[0m\u001b[0;34m:\u001b[0m\u001b[0;34m\u001b[0m\u001b[0;34m\u001b[0m\u001b[0m\n\u001b[0;32m--> 424\u001b[0;31m             \u001b[0mself\u001b[0m\u001b[0;34m.\u001b[0m\u001b[0merror_handler\u001b[0m\u001b[0;34m.\u001b[0m\u001b[0mcheck_response\u001b[0m\u001b[0;34m(\u001b[0m\u001b[0mresponse\u001b[0m\u001b[0;34m)\u001b[0m\u001b[0;34m\u001b[0m\u001b[0;34m\u001b[0m\u001b[0m\n\u001b[0m\u001b[1;32m    425\u001b[0m             response['value'] = self._unwrap_value(\n\u001b[1;32m    426\u001b[0m                 response.get('value', None))\n",
      "\u001b[0;32m/usr/local/lib/python3.9/site-packages/selenium/webdriver/remote/errorhandler.py\u001b[0m in \u001b[0;36mcheck_response\u001b[0;34m(self, response)\u001b[0m\n\u001b[1;32m    245\u001b[0m                 \u001b[0malert_text\u001b[0m \u001b[0;34m=\u001b[0m \u001b[0mvalue\u001b[0m\u001b[0;34m[\u001b[0m\u001b[0;34m'alert'\u001b[0m\u001b[0;34m]\u001b[0m\u001b[0;34m.\u001b[0m\u001b[0mget\u001b[0m\u001b[0;34m(\u001b[0m\u001b[0;34m'text'\u001b[0m\u001b[0;34m)\u001b[0m\u001b[0;34m\u001b[0m\u001b[0;34m\u001b[0m\u001b[0m\n\u001b[1;32m    246\u001b[0m             \u001b[0;32mraise\u001b[0m \u001b[0mexception_class\u001b[0m\u001b[0;34m(\u001b[0m\u001b[0mmessage\u001b[0m\u001b[0;34m,\u001b[0m \u001b[0mscreen\u001b[0m\u001b[0;34m,\u001b[0m \u001b[0mstacktrace\u001b[0m\u001b[0;34m,\u001b[0m \u001b[0malert_text\u001b[0m\u001b[0;34m)\u001b[0m  \u001b[0;31m# type: ignore[call-arg]  # mypy is not smart enough here\u001b[0m\u001b[0;34m\u001b[0m\u001b[0;34m\u001b[0m\u001b[0m\n\u001b[0;32m--> 247\u001b[0;31m         \u001b[0;32mraise\u001b[0m \u001b[0mexception_class\u001b[0m\u001b[0;34m(\u001b[0m\u001b[0mmessage\u001b[0m\u001b[0;34m,\u001b[0m \u001b[0mscreen\u001b[0m\u001b[0;34m,\u001b[0m \u001b[0mstacktrace\u001b[0m\u001b[0;34m)\u001b[0m\u001b[0;34m\u001b[0m\u001b[0;34m\u001b[0m\u001b[0m\n\u001b[0m\u001b[1;32m    248\u001b[0m \u001b[0;34m\u001b[0m\u001b[0m\n\u001b[1;32m    249\u001b[0m     \u001b[0;32mdef\u001b[0m \u001b[0m_value_or_default\u001b[0m\u001b[0;34m(\u001b[0m\u001b[0mself\u001b[0m\u001b[0;34m,\u001b[0m \u001b[0mobj\u001b[0m\u001b[0;34m:\u001b[0m \u001b[0mMapping\u001b[0m\u001b[0;34m[\u001b[0m\u001b[0m_KT\u001b[0m\u001b[0;34m,\u001b[0m \u001b[0m_VT\u001b[0m\u001b[0;34m]\u001b[0m\u001b[0;34m,\u001b[0m \u001b[0mkey\u001b[0m\u001b[0;34m:\u001b[0m \u001b[0m_KT\u001b[0m\u001b[0;34m,\u001b[0m \u001b[0mdefault\u001b[0m\u001b[0;34m:\u001b[0m \u001b[0m_VT\u001b[0m\u001b[0;34m)\u001b[0m \u001b[0;34m->\u001b[0m \u001b[0m_VT\u001b[0m\u001b[0;34m:\u001b[0m\u001b[0;34m\u001b[0m\u001b[0;34m\u001b[0m\u001b[0m\n",
      "\u001b[0;31mNoSuchElementException\u001b[0m: Message: no such element: Unable to locate element: {\"method\":\"css selector\",\"selector\":\"[id=\"pnnext\"]\"}\n  (Session info: chrome=98.0.4758.80)\nStacktrace:\n0   chromedriver                        0x0000000108bb93c9 chromedriver + 5018569\n1   chromedriver                        0x0000000108b44333 chromedriver + 4539187\n2   chromedriver                        0x0000000108719a88 chromedriver + 170632\n3   chromedriver                        0x000000010874e332 chromedriver + 385842\n4   chromedriver                        0x000000010874e4f1 chromedriver + 386289\n5   chromedriver                        0x00000001087808b4 chromedriver + 592052\n6   chromedriver                        0x000000010876b80d chromedriver + 505869\n7   chromedriver                        0x000000010877e604 chromedriver + 583172\n8   chromedriver                        0x000000010876b6d3 chromedriver + 505555\n9   chromedriver                        0x000000010874195e chromedriver + 334174\n10  chromedriver                        0x0000000108742935 chromedriver + 338229\n11  chromedriver                        0x0000000108b751ee chromedriver + 4739566\n12  chromedriver                        0x0000000108b8ef51 chromedriver + 4845393\n13  chromedriver                        0x0000000108b94928 chromedriver + 4868392\n14  chromedriver                        0x0000000108b8fa7a chromedriver + 4848250\n15  chromedriver                        0x0000000108b69c31 chromedriver + 4693041\n16  chromedriver                        0x0000000108baa978 chromedriver + 4958584\n17  chromedriver                        0x0000000108baab01 chromedriver + 4958977\n18  chromedriver                        0x0000000108bc0795 chromedriver + 5048213\n19  libsystem_pthread.dylib             0x00007ff819a63514 _pthread_start + 125\n20  libsystem_pthread.dylib             0x00007ff819a5f02f thread_start + 15\n"
     ]
    }
   ],
   "source": [
    "from selenium.webdriver.chrome.service import Service\n",
    "from selenium import webdriver\n",
    "from selenium.webdriver.common.keys import Keys\n",
    "from selenium.webdriver.support import expected_conditions as EC\n",
    "from selenium.webdriver.common.by import By\n",
    "from selenium.webdriver.support.wait import WebDriverWait\n",
    "import time\n",
    "\n",
    "import csv\n",
    "import getpass\n",
    "from selenium.common.exceptions import NoSuchElementException\n",
    "\n",
    "\n",
    "browser_driver = Service('/usr/local/lib/chromedriver/chromedriver')\n",
    "page_to_scrape = webdriver.Chrome(service=browser_driver)\n",
    "\n",
    "page_to_scrape.get(\"https://www.google.com/\")\n",
    "\n",
    "page_to_scrape.find_element(By.ID, \"L2AGLb\").click()\n",
    "\n",
    "page_to_scrape.get(\"https://www.google.com/search?q=site%3Alinkedin.com%2Fin%2F+AND+%22US+Army%22+AND+%22Stuttgart%22&oq=site%3Alinkedin.com%2Fin%2F+AND+%22US+Army%22+AND+%22Stuttgart%22&aqs=chrome.0.69i59j69i58.530j0j9&sourceid=chrome&ie=UTF-8\")\n",
    "\n",
    "elems = page_to_scrape.find_elements(By.CSS_SELECTOR,\".yuRUbf [href]\")\n",
    "links = [elem.get_attribute('href') for elem in elems]\n",
    "\n",
    "linksextended = links\n",
    "print(links)\n",
    "print(len(links))\n",
    "length=len(links)\n",
    "i=0\n",
    "\n",
    "while i<5:\n",
    "    page_to_scrape.find_element(By.ID, \"pnnext\").click()\n",
    "    time.sleep(0.5)\n",
    "    elems = page_to_scrape.find_elements(By.CSS_SELECTOR,\".yuRUbf [href]\")\n",
    "    links = linksextended.extend([elem.get_attribute('href') for elem in elems])\n",
    "    i+=1\n",
    "    \n",
    "    \n",
    "print(links)\n",
    "print(len(links))"
   ]
  },
  {
   "cell_type": "markdown",
   "id": "4fe857c0",
   "metadata": {},
   "source": [
    "#### "
   ]
  },
  {
   "cell_type": "code",
   "execution_count": null,
   "id": "9d94336b",
   "metadata": {},
   "outputs": [],
   "source": []
  }
 ],
 "metadata": {
  "kernelspec": {
   "display_name": "Python 3 (ipykernel)",
   "language": "python",
   "name": "python3"
  },
  "language_info": {
   "codemirror_mode": {
    "name": "ipython",
    "version": 3
   },
   "file_extension": ".py",
   "mimetype": "text/x-python",
   "name": "python",
   "nbconvert_exporter": "python",
   "pygments_lexer": "ipython3",
   "version": "3.9.8"
  }
 },
 "nbformat": 4,
 "nbformat_minor": 5
}
